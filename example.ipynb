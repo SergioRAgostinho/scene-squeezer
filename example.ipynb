{
 "cells": [
  {
   "cell_type": "code",
   "execution_count": 1,
   "id": "6503de36-815f-4580-b626-e31eaf259852",
   "metadata": {},
   "outputs": [],
   "source": [
    "%load_ext autoreload\n",
    "%autoreload 2"
   ]
  },
  {
   "cell_type": "code",
   "execution_count": 2,
   "id": "41441ac1-062d-4ad5-a41c-5000d231a968",
   "metadata": {},
   "outputs": [
    {
     "name": "stderr",
     "output_type": "stream",
     "text": [
      "/home/luweiy/code/squeezer/dbg/dbg_common.py:7: TqdmExperimentalWarning: Using `tqdm.autonotebook.tqdm` in notebook mode. Use `tqdm.tqdm` instead to force console mode (e.g. in jupyter console)\n",
      "  from tqdm.autonotebook import tqdm\n"
     ]
    }
   ],
   "source": [
    "from core_dl.get_host_name import get_host_name"
   ]
  },
  {
   "cell_type": "markdown",
   "id": "361738f3-8a8e-475a-bf7d-1db909a3a36f",
   "metadata": {},
   "source": [
    "### network"
   ]
  },
  {
   "cell_type": "code",
   "execution_count": 3,
   "id": "03939179-5e5e-4547-bb9e-7b82185e5252",
   "metadata": {},
   "outputs": [],
   "source": [
    "from exp.scene_sq_unified_ptsel_box import *\n",
    "from pipeline.pose_util import estimate_pose"
   ]
  },
  {
   "cell_type": "code",
   "execution_count": 4,
   "id": "5f2593f0-93b8-44e0-8b70-08df0449a4a8",
   "metadata": {},
   "outputs": [
    {
     "name": "stdout",
     "output_type": "stream",
     "text": [
      "[TrainParameters] Load Train parameters from ../exp_config/exp_dual_matcher.json\n"
     ]
    }
   ],
   "source": [
    "exp = 'exp_dual_matcher'\n",
    "hostname = get_host_name()\n",
    "params = TrainParameters(os.path.join('../exp_config/%s.json' % exp))\n",
    "params.DEBUG = True\n",
    "params.DEV_IDS = [0, 0]\n",
    "\n",
    "params.AUX_CFG_DICT['dist_kernel_rbf_sigma'] = 1.0\n",
    "params.AUX_CFG_DICT['qp_solver'] = 'cvxpy'\n",
    "params.AUX_CFG_DICT['qp_compression_ratio'] = 0.1\n",
    "params.AUX_CFG_DICT['qp_distinctiveness_weight'] = -2.30258\n",
    "params.AUX_CFG_DICT['qp_num_pts'] = 100\n",
    "params.AUX_CFG_DICT['sqz_aggre_method'] = 'mean'"
   ]
  },
  {
   "cell_type": "code",
   "execution_count": 5,
   "id": "6e109200-c1ae-44a6-be44-3b90577726df",
   "metadata": {},
   "outputs": [],
   "source": [
    "# define the quantilizer\n",
    "dm = 128\n",
    "params.AUX_CFG_DICT['reduce_dim_list'] = [256, dm, dm]\n",
    "params.AUX_CFG_DICT['increase_dim_list'] = [dm, 256, 256]"
   ]
  },
  {
   "cell_type": "code",
   "execution_count": 6,
   "id": "62aa0908-95b1-4b58-8357-e2212a3fb7dc",
   "metadata": {},
   "outputs": [
    {
     "name": "stdout",
     "output_type": "stream",
     "text": [
      "[11/20/2021 21:57:22 INFO] Connected (version 2.0, client OpenSSH_8.2p1)\n",
      "[11/20/2021 21:57:22 INFO] Authentication (publickey) successful!\n",
      "[11/20/2021 21:57:23 INFO] [chan 0] Opened sftp connection (server version 3)\n",
      "[11/20/2021 21:57:25 INFO] [chan 0] sftp session closed.\n",
      "[11/20/2021 21:57:25 INFO] Connected (version 2.0, client OpenSSH_8.2p1)\n",
      "[11/20/2021 21:57:25 INFO] Authentication (publickey) successful!\n",
      "[11/20/2021 21:57:25 INFO] [chan 0] Opened sftp connection (server version 3)\n",
      "[11/20/2021 21:57:27 INFO] [chan 0] sftp session closed.\n"
     ]
    }
   ],
   "source": [
    "params.CKPT_DICT['quantizater'] = LOG_DIR_04s / 'Oct16_19-24-22_docker_soft_quant_encoder/ckpt/epoch_9.ckpt'\n",
    "params.CKPT_DICT['instance'] = 'Nov07_19-43-08_docker_qp_rndsel256_learnkernel10_pnploss/ckpt/iter_38000.ckpt'"
   ]
  },
  {
   "cell_type": "code",
   "execution_count": 7,
   "id": "0353d29a-74f8-42ba-8817-32b4ea9672db",
   "metadata": {},
   "outputs": [
    {
     "name": "stdout",
     "output_type": "stream",
     "text": [
      "\u001b[34m********************************************[ Network: stg1_binarized_loss ]********************************************\u001b[0m\n",
      "[ExprCtx] Set temporary output dir: /tmp/squeezer/dbg\n",
      "Loaded SuperGlue model (\"outdoor\" weights)\n",
      "\u001b[32mNOTE: Solver Type: cvxpy\u001b[39m\n",
      "\u001b[32m[SceneSQPTSelBox] NOTE: The dimension of feature is reduced to 128\u001b[39m\n",
      "\u001b[32m[SuperGlueGNNMatcher] NOTE: inited with external weights\u001b[39m\n",
      "Network information, N/A\n",
      "\u001b[32mNOTE: Disabled: automatic assigning device\u001b[39m\n",
      "\u001b[32mNOTE: Disabled: pl's automatic optimizer\u001b[39m\n",
      "\u001b[32m[SceneSQPTSelBox] NOTE: model loaded from /tmp/ckpts/iter_38000.ckpt\u001b[39m\n",
      "\u001b[32m[SceneSQPTSelBox] NOTE: [quantizater] overloaded from /tmp/ckpts/epoch_9.ckpt\u001b[39m\n",
      "\u001b[32m[SceneSQPTSelBox] NOTE: Setting Lightning Model to eval model.\u001b[39m\n",
      "\u001b[32mNOTE: Move <class 'matcher.superglue_matcher.SuperGlueMatcher'> to device: 0\u001b[39m\n",
      "\u001b[32mNOTE: Move <class 'net.scene_mfuser_sq.SceneSqueezerWithTestQueries'> to device: 0\u001b[39m\n",
      "\u001b[32mNOTE: Move <class 'net.qp_ptsel_transformer.PointSelection'> to device: 0\u001b[39m\n",
      "\u001b[32mNOTE: Move <class 'matcher.superglue_gnn_matcher.SuperGlueGNNMatcher'> to device: 0\u001b[39m\n",
      "\u001b[32mNOTE: Move <class 'net.soft_quant.SoftQuant'> to device: 0\u001b[39m\n"
     ]
    }
   ],
   "source": [
    "train_box = SceneSQPTSelBox(params)\n",
    "train_box.load_from(params.CKPT_DICT)\n",
    "train_box.eval()"
   ]
  },
  {
   "cell_type": "code",
   "execution_count": 8,
   "id": "17c6c727-a193-43b1-95fd-2f4a2d5dba88",
   "metadata": {},
   "outputs": [],
   "source": [
    "# soft-quant\n",
    "qtz = train_box.quantizater\n",
    "dsq = train_box.quantizater.quantizate"
   ]
  },
  {
   "cell_type": "markdown",
   "id": "9458d35f-9976-4153-a7ff-27d3da60fd04",
   "metadata": {
    "tags": []
   },
   "source": [
    "### config dataset"
   ]
  },
  {
   "cell_type": "code",
   "execution_count": 9,
   "id": "a1a5a0d9-be3c-47f1-ac63-a99dd68dd302",
   "metadata": {},
   "outputs": [],
   "source": [
    "from dataset.cambridge.data_source import CambridgeDataSource"
   ]
  },
  {
   "cell_type": "code",
   "execution_count": 10,
   "id": "c74954d2-805a-420e-b61c-71330d9b58a1",
   "metadata": {},
   "outputs": [],
   "source": [
    "from dataset.cambridge.sampling_utils import *"
   ]
  },
  {
   "cell_type": "code",
   "execution_count": 11,
   "id": "266c6298-1042-4534-9df9-84d69549bdb8",
   "metadata": {},
   "outputs": [
    {
     "data": {
      "application/vnd.jupyter.widget-view+json": {
       "model_id": "758ebef77bda4e3ea556304e4bdce42f",
       "version_major": 2,
       "version_minor": 0
      },
      "text/plain": [
       "[CambridgeDataSource] Loading HLOC scene model:   0%|          | 0/2 [00:00<?, ?it/s]"
      ]
     },
     "metadata": {},
     "output_type": "display_data"
    },
    {
     "name": "stdout",
     "output_type": "stream",
     "text": [
      "[CambridgeDataSource] Loaded reconstruction model from /mnt/Exp_fast/dataset/cambridge/StMarysChurch/hloc_output with SfM: sfm_superpoint+superglue\n",
      "[CambridgeDataSource] Total 0 query clips, 0 scene reference sub-graphs from 2 scenes\n"
     ]
    }
   ],
   "source": [
    "# dataset_name = 'cambridge_kings_college'\n",
    "# dataset_name = 'cambridge_old_hospital'\n",
    "dataset_name = 'cambridge_st_marys_church'\n",
    "# dataset_name = 'cambridge_facade'\n",
    "\n",
    "with open('../dataset/config/data.%s.json' % get_host_name()) as f:\n",
    "    dataset_cfg = json.load(f)[dataset_name]\n",
    "\n",
    "ds = CambridgeDataSource(dataset_cfg)"
   ]
  },
  {
   "cell_type": "code",
   "execution_count": 12,
   "id": "9447cf53-2763-4da7-a94d-a859946d33db",
   "metadata": {},
   "outputs": [],
   "source": [
    "m_db = ds.trj_dbs['mapping']\n",
    "q_db = ds.trj_dbs['query']\n",
    "m_names = list(m_db.img_name2id.keys())\n",
    "q_names = list(q_db.img_name2id.keys())"
   ]
  },
  {
   "cell_type": "markdown",
   "id": "95dcd7c7-85b3-4193-9c14-fd593c7ab3d9",
   "metadata": {},
   "source": [
    "### build co-visible cluster"
   ]
  },
  {
   "cell_type": "code",
   "execution_count": 29,
   "id": "827c366d-be3c-4a17-bce9-3eb785f8dc4e",
   "metadata": {},
   "outputs": [],
   "source": [
    "# roots = find_roots(ds, 'mapping', ref_subgraph_spatial_dist=6.0, ref_subgraph_rot_dist=45, verbose=True)\n",
    "# roots = filter_ref_subgraph(ds, 'mapping', roots, ref_subgraph_spatial_dist=6.0, ref_subgraph_rot_dist=45)\n",
    "# # roots = [r for r in roots]"
   ]
  },
  {
   "cell_type": "code",
   "execution_count": 13,
   "id": "aed0b7f2-80ca-43ad-a9ba-3f5d8ec9410e",
   "metadata": {},
   "outputs": [
    {
     "data": {
      "application/vnd.jupyter.widget-view+json": {
       "model_id": "f9bf9c19afab448faa3749e560270e7b",
       "version_major": 2,
       "version_minor": 0
      },
      "text/plain": [
       "compute co-visible observations:   0%|          | 0/1487 [00:00<?, ?it/s]"
      ]
     },
     "metadata": {},
     "output_type": "display_data"
    }
   ],
   "source": [
    "v_dist = get_visual_dist_matrix(ds, 'mapping', m_names)"
   ]
  },
  {
   "cell_type": "code",
   "execution_count": 14,
   "id": "50e7bde4-012c-4224-ad76-be1961055968",
   "metadata": {},
   "outputs": [
    {
     "name": "stdout",
     "output_type": "stream",
     "text": [
      "Filtered by co-visible thres: 52\n"
     ]
    }
   ],
   "source": [
    "num_sub_clusters, sub_clusters = get_h_clusters(np.log(1/(v_dist + 1e-6)), dist_thres=80)\n",
    "print('Filtered by co-visible thres: %d' % num_sub_clusters)"
   ]
  },
  {
   "cell_type": "code",
   "execution_count": 15,
   "id": "b8566f7c-9793-4f1b-8b48-449eccf30b16",
   "metadata": {},
   "outputs": [],
   "source": [
    "cl_roots = []\n",
    "for cl in range(num_sub_clusters):\n",
    "    cl_idx = np.where(cl == sub_clusters)[0]\n",
    "    cl_roots.append([m_names[c] for c in cl_idx])"
   ]
  },
  {
   "cell_type": "code",
   "execution_count": 16,
   "id": "cf40a28d-d214-40b0-a3e7-32933216ed9c",
   "metadata": {
    "tags": []
   },
   "outputs": [
    {
     "data": {
      "application/vnd.jupyter.widget-view+json": {
       "model_id": "d2ef1ca5b08a4c5baafc2ebf692d42b5",
       "version_major": 2,
       "version_minor": 0
      },
      "text/plain": [
       "Constructing sub_graphs:   0%|          | 0/52 [00:00<?, ?it/s]"
      ]
     },
     "metadata": {},
     "output_type": "display_data"
    },
    {
     "name": "stdout",
     "output_type": "stream",
     "text": [
      "Total 52 subgraphs\n"
     ]
    }
   ],
   "source": [
    "# build subgraphs --------------------------------------------------------------------------------------------------\n",
    "refs = build_ref_subgraphs(ds, cl_roots, 'mapping', \n",
    "                           max_frames_per_graph=18,\n",
    "                           ref_subgraph_spatial_dist=6.0, ref_subgraph_rot_dist=60, \n",
    "                           verbose=True)"
   ]
  },
  {
   "cell_type": "markdown",
   "id": "ac844018-6b8b-4463-b998-6d6db4ab30ce",
   "metadata": {
    "tags": []
   },
   "source": [
    "## squeeze"
   ]
  },
  {
   "cell_type": "code",
   "execution_count": 17,
   "id": "5f03576f-fd3d-49f8-8184-806005fc676a",
   "metadata": {
    "tags": []
   },
   "outputs": [],
   "source": [
    "def get_kernels_(box: SceneSQPTSelBox, v_info, anchor_info, l_rbf=1.0, d_rbf=1.0):\n",
    "\n",
    "    v_metas, v_pt2d, _ = dict2obs(v_info)\n",
    "    ar_metas, ar_pt2d, ar_pt3d = dict2obs(anchor_info)\n",
    "\n",
    "    with torch.cuda.device(box.device_of(box.sqz)) as _, torch.no_grad() as _:\n",
    "        cur_dev = torch.cuda.current_device()\n",
    "        \n",
    "        (log_var, kernel_feats), (r_xyz, r_feats), interm = box.sqz.forward(\n",
    "            v_metas, v_pt2d, ar_metas, ar_pt2d, ar_pt3d\n",
    "        )\n",
    "        if log_var is None:\n",
    "            return None, None, None, None\n",
    "        input_feats = interm['in_feats'].contiguous()\n",
    "        B, M, _ = input_feats.shape\n",
    "        dist_score = torch.exp(- log_var).to(cur_dev).view(B, M, 1)\n",
    "#         input_feats = torch.cat([input_feats, dist_score], dim=-1).contiguous()\n",
    "        \n",
    "        dist_score = dist_score.view(B, M)\n",
    "        \n",
    "        Kl, _ = train_box.pt_sel.get_kernel(ar_pt3d.xyz, input_feats, l_rbf)\n",
    "        Kd = train_box.pt_sel.get_distance_kernel(ar_pt3d.xyz)\n",
    "        \n",
    "    return dist_score.view(M), Kd.view(M, M), Kl.view(M, M), r_xyz, r_feats"
   ]
  },
  {
   "cell_type": "code",
   "execution_count": 18,
   "id": "822fef9d-a38e-4eef-b628-34a5e55aea92",
   "metadata": {},
   "outputs": [],
   "source": [
    "from pipeline.iter_ref_subgraphs import iter_ref_loader\n",
    "from pipeline.squeezer import *\n",
    "from core_math.cvxpy_qp_solver import CVXPY_QP\n",
    "from core_math.smo_qp_solver import SMO_QP\n",
    "from timeit import default_timer as timer\n",
    "\n",
    "refs_loader = iter_ref_loader(refs, ds, va_ratio=(0.6, 0.4), anchor_sampling_method='greedy', num_workers=0)\n"
   ]
  },
  {
   "cell_type": "code",
   "execution_count": 20,
   "id": "5ae21931-b640-488f-9a13-915c821d9d65",
   "metadata": {},
   "outputs": [],
   "source": [
    "sqz_xyz, sqz_feats, sqz_raw_feats = dict(), dict(), dict()"
   ]
  },
  {
   "cell_type": "code",
   "execution_count": 21,
   "id": "580c4907-8aa3-4c22-a4f3-7c8db6cd9c43",
   "metadata": {},
   "outputs": [],
   "source": [
    "for r, rf in sqz_feats.items():\n",
    "    print(rf.shape)"
   ]
  },
  {
   "cell_type": "code",
   "execution_count": 91,
   "id": "27cd28a8-5adb-49ce-a558-86e684e136d5",
   "metadata": {
    "tags": []
   },
   "outputs": [
    {
     "data": {
      "application/vnd.jupyter.widget-view+json": {
       "model_id": "f28a7554205843fbace4509f70f438c8",
       "version_major": 2,
       "version_minor": 0
      },
      "text/plain": [
       "  0%|          | 0/52 [00:00<?, ?it/s]"
      ]
     },
     "metadata": {},
     "output_type": "display_data"
    },
    {
     "name": "stdout",
     "output_type": "stream",
     "text": [
      "0, Ref Points:  5129 -> 1192\n",
      "1, Ref Points:  4728 -> 1125\n",
      "2, Ref Points:  6345 -> 1477\n",
      "3, Ref Points:  4764 -> 1103\n",
      "4, Ref Points:  8342 -> 1873\n",
      "5, Ref Points:  7861 -> 1749\n",
      "6, Ref Points:  8312 -> 1866\n",
      "7, Ref Points:  7824 -> 1792\n",
      "8, Ref Points:  9400 -> 2098\n",
      "9, Ref Points:  9654 -> 2158\n",
      "10, Ref Points:  8305 -> 1859\n",
      "11, Ref Points:  8857 -> 1988\n",
      "12, Ref Points:  7654 -> 1729\n",
      "13, Ref Points:  9629 -> 2140\n",
      "14, Ref Points:  9864 -> 2188\n",
      "15, Ref Points:  9030 -> 2014\n",
      "16, Ref Points:  4099 -> 999\n",
      "17, Ref Points:  9417 -> 2111\n",
      "18, Ref Points:  8033 -> 1796\n",
      "19, Ref Points:  8306 -> 1866\n",
      "20, Ref Points:  6765 -> 1539\n",
      "21, Ref Points:  3544 -> 833\n",
      "22, Ref Points:  5273 -> 1201\n",
      "23, Ref Points:  7370 -> 1667\n",
      "24, Ref Points:  8409 -> 1884\n",
      "25, Ref Points:  6751 -> 1536\n",
      "26, Ref Points:  2586 -> 702\n",
      "27, Ref Points:  8385 -> 1873\n",
      "28, Ref Points:  7388 -> 1658\n",
      "29, Ref Points:  9014 -> 1997\n",
      "30, Ref Points:  9520 -> 2116\n",
      "31, Ref Points:  8593 -> 1922\n",
      "32, Ref Points:  10238 -> 2274\n",
      "33, Ref Points:  4734 -> 1164\n",
      "34, Ref Points:  3294 -> 856\n",
      "35, Ref Points:  6509 -> 1447\n",
      "36, Ref Points:  7350 -> 1682\n",
      "37, Ref Points:  8413 -> 1889\n",
      "38, Ref Points:  8612 -> 1917\n",
      "39, Ref Points:  7414 -> 1674\n",
      "40, Ref Points:  8944 -> 1997\n",
      "41, Ref Points:  2550 -> 753\n",
      "42, Ref Points:  6915 -> 1591\n",
      "43, Ref Points:  8894 -> 1987\n",
      "44, Ref Points:  8487 -> 1893\n",
      "45, Ref Points:  8576 -> 1912\n",
      "46, Ref Points:  8116 -> 1811\n",
      "47, Ref Points:  8276 -> 1856\n",
      "48, Ref Points:  9724 -> 2158\n",
      "49, Ref Points:  7080 -> 1582\n",
      "50, Ref Points:  9204 -> 2055\n",
      "51, Ref Points:  7590 -> 1716\n"
     ]
    }
   ],
   "source": [
    "v = 0.22\n",
    "rbf_sigma = 1.0\n",
    "train_box.pt_sel.learnt_kernel_rbf_sigma = 1.0\n",
    "\n",
    "# tao = torch.ones(1, device=train_box.pt_sel.lambda_weight.device) * 0.01\n",
    "tao = train_box.pt_sel.get_tao()\n",
    "qp_solver = SMO_QP(compression_ratio=v, num_iters=20000)\n",
    "MIN_COMPRESSED_POINTS = 100\n",
    "\n",
    "time_sqz_net = 0\n",
    "time_qp = 0\n",
    "\n",
    "i = 0\n",
    "for ref_sample in tqdm(refs_loader):\n",
    "    fq_imgs, fq_info, rp_imgs, rp_info = ref_sample\n",
    "    ref_id = i\n",
    "    num_pts = rp_info['pt3d'].shape[1]\n",
    "    \n",
    "    st = timer()\n",
    "    d, Kd, Kl, r_xyz, r_feats = get_kernels_(train_box, fq_info, rp_info, rbf_sigma)\n",
    "    if d is None:\n",
    "        continue\n",
    "    end = timer()\n",
    "    time_sqz_net += (end - st)\n",
    "    \n",
    "    r_before = r_xyz.shape[0]\n",
    "    r_compressed = int(v * r_before)\n",
    "    if r_compressed < MIN_COMPRESSED_POINTS:\n",
    "        qp_solver.compression_ratio = MIN_COMPRESSED_POINTS / r_before\n",
    "    else:\n",
    "        qp_solver.compression_ratio = v\n",
    "    \n",
    "    # solve by QP\n",
    "    st = timer()\n",
    "    alpha = alpha_by_qp(qp_solver, d, 0.5 * (Kd + Kl), 0.1, max_sample_points=-1, sample_method='score', use_cvxpy=(num_pts < 800))\n",
    "    end = timer()\n",
    "    time_qp += (end - st)\n",
    "#     alpha = alpha_by_qp(qp_solver, d, Kd, tao * 3, max_sample_points=-1, sample_method='score', use_cvxpy=(num_pts < 800))\n",
    "\n",
    "    # filtering\n",
    "    if num_pts > 100:\n",
    "        sel_ref_idx = torch.where(alpha > 0.1)[0]\n",
    "        \n",
    "        # random\n",
    "#         sel_ref_idx = torch.from_numpy(np.random.choice(r_before, size=sel_ref_idx.shape[0], replace=False))\n",
    "#         sel_ref_idx = torch.argsort(d, descending=True)[:sel_ref_idx.shape[0]]\n",
    "    \n",
    "        r_xyz = r_xyz[sel_ref_idx]\n",
    "        r_feats = r_feats[:, :, sel_ref_idx]\n",
    "    \n",
    "    sqz_raw_feats[ref_id] = r_feats.clone()\n",
    "    \n",
    "    # encode to uint8\n",
    "    _, r_feats_quats, _ = qtz.encode(r_feats)\n",
    "\n",
    "    sqz_xyz[ref_id] = r_xyz.cpu()\n",
    "    sqz_feats[ref_id] = r_feats_quats.cpu()\n",
    "    print('%d, Ref Points:  %d -> %d' % (ref_id, num_pts, r_xyz.shape[0]))\n",
    "    \n",
    "    i += 1\n",
    "#     break"
   ]
  },
  {
   "cell_type": "code",
   "execution_count": 92,
   "id": "085e3387-164d-4d4c-9d49-f3ef3d2724c9",
   "metadata": {
    "tags": []
   },
   "outputs": [
    {
     "name": "stdout",
     "output_type": "stream",
     "text": [
      "Total 88265 points\n",
      "Size: 12119 KB (11.84 MB)\n"
     ]
    }
   ],
   "source": [
    "# count total points\n",
    "total_pts = 0\n",
    "for _, r_xyz in sqz_xyz.items():\n",
    "    if len(r_xyz) > 0:\n",
    "        total_pts += r_xyz.shape[0]\n",
    "print(f\"Total {total_pts} points\")\n",
    "\n",
    "pt_size = (140 * total_pts) / 1024\n",
    "\n",
    "total_size = pt_size + len(sqz_xyz)\n",
    "print('Size: %d KB (%.2f MB)' % (total_size, total_size / 1024.0))"
   ]
  },
  {
   "cell_type": "markdown",
   "id": "6527f26d-4b7d-4439-ac3c-ea8f849a593a",
   "metadata": {
    "tags": []
   },
   "source": [
    "### localize them! (aggregate 2D-3D matches, like HLoc)"
   ]
  },
  {
   "cell_type": "code",
   "execution_count": 81,
   "id": "fe66a58d-3380-4629-bb3a-33660c2f1e7b",
   "metadata": {},
   "outputs": [],
   "source": [
    "from pipeline.retrieval_db import RetrievalDB\n",
    "\n",
    "ref_db = RetrievalDB(encoder_ckpt_path='/mnt/Exp/pretrain/Resnet-101-AP-GeM-state-dict.pt', \n",
    "                     dev_id=params.DEV_IDS[0], \n",
    "                     preprocess_func='default')"
   ]
  },
  {
   "cell_type": "code",
   "execution_count": 82,
   "id": "d1115294-6e86-4d83-aa9b-bd1350d42938",
   "metadata": {},
   "outputs": [
    {
     "data": {
      "application/vnd.jupyter.widget-view+json": {
       "model_id": "19ef1e44eb7e464d8f307e9a68fddd1c",
       "version_major": 2,
       "version_minor": 0
      },
      "text/plain": [
       "  0%|          | 0/52 [00:00<?, ?it/s]"
      ]
     },
     "metadata": {},
     "output_type": "display_data"
    }
   ],
   "source": [
    "i = 0\n",
    "for ref in tqdm(refs):\n",
    "    root_img = ds.get_images(ref['nodes'][0:1], to_tensor=False)[0]\n",
    "    with torch.no_grad():\n",
    "        ref_db.add_to_db(i, ref_db.encode(root_img))\n",
    "    i+= 1"
   ]
  },
  {
   "cell_type": "code",
   "execution_count": 93,
   "id": "dd4a8eee-7a6e-4159-b85a-f9cdb2a0538b",
   "metadata": {
    "tags": []
   },
   "outputs": [],
   "source": [
    "import pycolmap\n",
    "from core_math.transfom import quaternion_matrix\n",
    "\n",
    "def estimate_pose_(ds, q_name, q_uv, ref_xyz, thresh=12):\n",
    "    if isinstance(q_uv, torch.Tensor):\n",
    "        q_uv = asnumpy(q_uv)\n",
    "    if isinstance(ref_xyz, torch.Tensor):\n",
    "        ref_xyz = asnumpy(ref_xyz)\n",
    "\n",
    "    q_raw = ds.trj_dbs['query'].get_cam_raw_params([q_name])[0]\n",
    "    q_cam_type, q_frame_dim, q_params = q_raw['cam_type'], q_raw['cam_params'][:2], q_raw['cam_params'][2:]\n",
    "\n",
    "    cfg = {\n",
    "        'model': 'SIMPLE_PINHOLE',\n",
    "        'width': int(q_frame_dim[1]),\n",
    "        'height': int(q_frame_dim[0]),\n",
    "        'params': np.asarray(q_params)[:3].astype(np.float64),\n",
    "    }\n",
    "    ret = pycolmap.absolute_pose_estimation(q_uv.astype(np.float64) + 0.5, ref_xyz.astype(np.float64), cfg, thresh)\n",
    "    \n",
    "    if ret['success'] is False:\n",
    "        return None, None\n",
    "    else:\n",
    "        Tcw = np.eye(4, dtype=np.float32)\n",
    "        Tcw[:3, :3] = quaternion_matrix(ret['qvec'])[:3, :3]\n",
    "        Tcw[:3, 3] = ret['tvec'].ravel()\n",
    "        inliers = np.asarray(ret['inliers'])\n",
    "        \n",
    "        return Tcw, inliers"
   ]
  },
  {
   "cell_type": "code",
   "execution_count": 94,
   "id": "743f1061-dc54-4fe5-b966-72dcceea76b5",
   "metadata": {},
   "outputs": [],
   "source": [
    "cfg_top_k = 15\n",
    "cfg_pnp_thres = 12"
   ]
  },
  {
   "cell_type": "code",
   "execution_count": 95,
   "id": "ef82ee2a-bfa4-43b5-9d8a-8e4cec8d5e8a",
   "metadata": {
    "tags": []
   },
   "outputs": [
    {
     "data": {
      "application/vnd.jupyter.widget-view+json": {
       "model_id": "66f9f77dfb6841efa02d9d36557eddf1",
       "version_major": 2,
       "version_minor": 0
      },
      "text/plain": [
       "  0%|          | 0/530 [00:00<?, ?it/s]"
      ]
     },
     "metadata": {},
     "output_type": "display_data"
    },
    {
     "name": "stdout",
     "output_type": "stream",
     "text": [
      "q:seq13/frame00155.png: inlier_ratio: 0.94 (322), trans_err: 0.1037, rot_err: 0.4878\n",
      "q:seq13/frame00156.png: inlier_ratio: 0.94 (257), trans_err: 0.2540, rot_err: 0.2407\n",
      "q:seq13/frame00157.png: inlier_ratio: 0.96 (354), trans_err: 0.1785, rot_err: 0.3039\n",
      "q:seq13/frame00158.png: inlier_ratio: 0.98 (424), trans_err: 0.1209, rot_err: 0.2307\n",
      "q:seq13/frame00159.png: inlier_ratio: 0.99 (500), trans_err: 0.0405, rot_err: 0.2037\n",
      "q:seq13/frame00160.png: inlier_ratio: 0.99 (568), trans_err: 0.0454, rot_err: 0.2017\n",
      "q:seq13/frame00161.png: inlier_ratio: 0.99 (640), trans_err: 0.0850, rot_err: 0.3090\n",
      "q:seq13/frame00162.png: inlier_ratio: 0.99 (702), trans_err: 0.0584, rot_err: 0.2273\n",
      "q:seq13/frame00163.png: inlier_ratio: 0.97 (704), trans_err: 0.0836, rot_err: 0.2203\n",
      "q:seq13/frame00164.png: inlier_ratio: 0.98 (727), trans_err: 0.0294, rot_err: 0.1153\n",
      "q:seq13/frame00165.png: inlier_ratio: 0.98 (672), trans_err: 0.1262, rot_err: 0.4334\n",
      "q:seq13/frame00166.png: inlier_ratio: 0.98 (694), trans_err: 0.0844, rot_err: 0.4361\n",
      "q:seq13/frame00167.png: inlier_ratio: 0.98 (634), trans_err: 0.1042, rot_err: 0.4918\n",
      "q:seq13/frame00168.png: inlier_ratio: 0.98 (570), trans_err: 0.1891, rot_err: 0.7813\n",
      "q:seq13/frame00169.png: inlier_ratio: 0.95 (457), trans_err: 0.1715, rot_err: 0.5028\n",
      "q:seq13/frame00170.png: inlier_ratio: 0.95 (463), trans_err: 0.1624, rot_err: 0.6944\n",
      "q:seq13/frame00171.png: inlier_ratio: 0.98 (381), trans_err: 0.2243, rot_err: 0.9078\n",
      "q:seq13/frame00172.png: inlier_ratio: 0.99 (557), trans_err: 0.1347, rot_err: 0.5848\n",
      "q:seq13/frame00173.png: inlier_ratio: 0.94 (493), trans_err: 0.2073, rot_err: 0.6709\n",
      "q:seq13/frame00174.png: inlier_ratio: 0.98 (517), trans_err: 0.1637, rot_err: 0.7067\n",
      "q:seq13/frame00175.png: inlier_ratio: 0.96 (519), trans_err: 0.1219, rot_err: 0.5747\n",
      "q:seq13/frame00176.png: inlier_ratio: 0.98 (484), trans_err: 0.1262, rot_err: 0.4942\n",
      "q:seq13/frame00177.png: inlier_ratio: 0.98 (469), trans_err: 0.1102, rot_err: 0.3461\n",
      "q:seq13/frame00178.png: inlier_ratio: 0.98 (408), trans_err: 0.1325, rot_err: 0.3615\n",
      "q:seq13/frame00179.png: inlier_ratio: 0.99 (301), trans_err: 0.1015, rot_err: 0.2273\n",
      "q:seq13/frame00180.png: inlier_ratio: 0.94 (272), trans_err: 0.1644, rot_err: 0.2221\n",
      "q:seq13/frame00181.png: inlier_ratio: 0.99 (245), trans_err: 0.1233, rot_err: 0.7285\n",
      "q:seq13/frame00182.png: inlier_ratio: 0.99 (216), trans_err: 0.1077, rot_err: 0.5747\n",
      "q:seq13/frame00183.png: inlier_ratio: 0.99 (241), trans_err: 0.0974, rot_err: 0.3426\n",
      "q:seq13/frame00184.png: inlier_ratio: 1.00 (240), trans_err: 0.0783, rot_err: 0.3298\n",
      "q:seq13/frame00185.png: inlier_ratio: 0.99 (182), trans_err: 0.1042, rot_err: 0.6691\n",
      "q:seq13/frame00186.png: inlier_ratio: 0.98 (210), trans_err: 0.1008, rot_err: 0.6579\n",
      "q:seq13/frame00187.png: inlier_ratio: 0.98 (136), trans_err: 0.0970, rot_err: 0.5842\n",
      "q:seq13/frame00154.png: inlier_ratio: 0.90 (221), trans_err: 0.4341, rot_err: 0.2669\n",
      "q:seq13/frame00153.png: inlier_ratio: 0.96 (281), trans_err: 0.0978, rot_err: 0.2037\n",
      "q:seq13/frame00152.png: inlier_ratio: 0.96 (242), trans_err: 0.1613, rot_err: 0.1725\n",
      "q:seq13/frame00151.png: inlier_ratio: 0.95 (193), trans_err: 0.0790, rot_err: 0.1047\n",
      "q:seq13/frame00188.png: inlier_ratio: 0.95 (170), trans_err: 0.1244, rot_err: 0.6597\n",
      "q:seq13/frame00150.png: inlier_ratio: 0.99 (89), trans_err: 0.3149, rot_err: 0.2094\n",
      "q:seq13/frame00149.png: inlier_ratio: 0.99 (80), trans_err: 0.0937, rot_err: 0.1958\n",
      "q:seq13/frame00148.png: inlier_ratio: 1.00 (54), trans_err: 0.1117, rot_err: 0.6679\n",
      "q:seq13/frame00147.png: inlier_ratio: 0.92 (209), trans_err: 0.1464, rot_err: 0.5174\n",
      "q:seq13/frame00146.png: inlier_ratio: 1.00 (29), trans_err: 0.4568, rot_err: 2.1469\n",
      "q:seq13/frame00203.png: inlier_ratio: 0.96 (459), trans_err: 0.0822, rot_err: 0.0791\n",
      "q:seq13/frame00202.png: inlier_ratio: 0.95 (400), trans_err: 0.0658, rot_err: 0.1251\n",
      "q:seq13/frame00201.png: inlier_ratio: 0.94 (426), trans_err: 0.1112, rot_err: 0.2894\n",
      "q:seq13/frame00189.png: inlier_ratio: 0.92 (142), trans_err: 0.1102, rot_err: 0.6910\n",
      "q:seq13/frame00204.png: inlier_ratio: 0.99 (484), trans_err: 0.0578, rot_err: 0.1084\n",
      "q:seq13/frame00200.png: inlier_ratio: 0.97 (331), trans_err: 0.0495, rot_err: 0.1978\n",
      "q:seq13/frame00205.png: inlier_ratio: 0.98 (492), trans_err: 0.0465, rot_err: 0.0560\n",
      "q:seq13/frame00206.png: inlier_ratio: 0.99 (479), trans_err: 0.0668, rot_err: 0.0928\n",
      "q:seq13/frame00207.png: inlier_ratio: 0.99 (469), trans_err: 0.1421, rot_err: 0.2741\n",
      "q:seq13/frame00208.png: inlier_ratio: 0.96 (382), trans_err: 0.0728, rot_err: 0.0791\n",
      "q:seq13/frame00209.png: inlier_ratio: 0.95 (460), trans_err: 0.1339, rot_err: 0.1769\n",
      "q:seq13/frame00210.png: inlier_ratio: 0.95 (341), trans_err: 0.0973, rot_err: 0.2502\n",
      "q:seq13/frame00211.png: inlier_ratio: 0.97 (311), trans_err: 0.0896, rot_err: 0.3286\n",
      "q:seq13/frame00199.png: inlier_ratio: 0.96 (274), trans_err: 0.0529, rot_err: 0.2256\n",
      "q:seq13/frame00212.png: inlier_ratio: 0.96 (268), trans_err: 0.1133, rot_err: 0.1251\n",
      "q:seq13/frame00213.png: inlier_ratio: 0.95 (223), trans_err: 0.0992, rot_err: 0.1047\n",
      "q:seq13/frame00214.png: inlier_ratio: 0.96 (216), trans_err: 0.1553, rot_err: 0.2185\n",
      "q:seq13/frame00215.png: inlier_ratio: 0.95 (104), trans_err: 0.1334, rot_err: 0.1371\n",
      "q:seq13/frame00216.png: inlier_ratio: 0.97 (264), trans_err: 0.1536, rot_err: 0.4563\n",
      "q:seq13/frame00217.png: inlier_ratio: 0.98 (546), trans_err: 0.1049, rot_err: 0.4715\n",
      "q:seq13/frame00218.png: inlier_ratio: 0.98 (705), trans_err: 0.0824, rot_err: 0.2698\n",
      "q:seq13/frame00219.png: inlier_ratio: 0.97 (863), trans_err: 0.0883, rot_err: 0.3334\n",
      "q:seq13/frame00220.png: inlier_ratio: 0.99 (933), trans_err: 0.0971, rot_err: 0.3637\n",
      "q:seq13/frame00221.png: inlier_ratio: 0.97 (786), trans_err: 0.0578, rot_err: 0.2374\n",
      "q:seq13/frame00222.png: inlier_ratio: 0.97 (961), trans_err: 0.0529, rot_err: 0.1119\n",
      "q:seq13/frame00223.png: inlier_ratio: 0.95 (1095), trans_err: 0.0682, rot_err: 0.0560\n",
      "q:seq13/frame00224.png: inlier_ratio: 0.98 (1372), trans_err: 0.0688, rot_err: 0.2017\n",
      "q:seq13/frame00228.png: inlier_ratio: 0.99 (1487), trans_err: 0.0901, rot_err: 0.2273\n",
      "q:seq13/frame00227.png: inlier_ratio: 0.96 (1246), trans_err: 0.0792, rot_err: 0.1009\n",
      "q:seq13/frame00226.png: inlier_ratio: 0.99 (1678), trans_err: 0.0982, rot_err: 0.3826\n",
      "q:seq13/frame00225.png: inlier_ratio: 0.98 (1169), trans_err: 0.0825, rot_err: 0.3026\n",
      "q:seq13/frame00229.png: inlier_ratio: 0.96 (1280), trans_err: 0.1270, rot_err: 0.5051\n",
      "q:seq13/frame00232.png: inlier_ratio: 0.97 (1147), trans_err: 0.1687, rot_err: 0.1009\n",
      "q:seq13/frame00231.png: inlier_ratio: 0.96 (1037), trans_err: 0.0784, rot_err: 0.1219\n",
      "q:seq13/frame00234.png: inlier_ratio: 0.95 (1198), trans_err: 0.1723, rot_err: 0.1427\n",
      "q:seq13/frame00233.png: inlier_ratio: 0.96 (1184), trans_err: 0.1060, rot_err: 0.3483\n",
      "q:seq13/frame00235.png: inlier_ratio: 0.93 (1134), trans_err: 0.3573, rot_err: 0.1153\n",
      "q:seq13/frame00236.png: inlier_ratio: 0.94 (1254), trans_err: 0.2257, rot_err: 0.1480\n",
      "q:seq13/frame00237.png: inlier_ratio: 0.96 (1355), trans_err: 0.1412, rot_err: 0.2307\n",
      "q:seq13/frame00230.png: inlier_ratio: 0.98 (883), trans_err: 0.1070, rot_err: 0.2094\n",
      "q:seq13/frame00238.png: inlier_ratio: 0.95 (1351), trans_err: 0.1040, rot_err: 0.0791\n",
      "q:seq13/frame00239.png: inlier_ratio: 0.90 (1313), trans_err: 0.1186, rot_err: 0.0791\n",
      "q:seq13/frame00240.png: inlier_ratio: 0.89 (1121), trans_err: 0.1086, rot_err: 0.0626\n",
      "q:seq13/frame00242.png: inlier_ratio: 0.96 (1475), trans_err: 0.1864, rot_err: 0.1769\n",
      "q:seq13/frame00241.png: inlier_ratio: 0.90 (1136), trans_err: 0.1172, rot_err: 0.0928\n",
      "q:seq13/frame00243.png: inlier_ratio: 0.98 (1405), trans_err: 0.1270, rot_err: 0.1187\n",
      "q:seq13/frame00245.png: inlier_ratio: 0.96 (1250), trans_err: 0.0945, rot_err: 0.0885\n",
      "q:seq13/frame00246.png: inlier_ratio: 0.98 (744), trans_err: 0.1339, rot_err: 0.4494\n",
      "q:seq13/frame00248.png: inlier_ratio: 0.96 (1080), trans_err: 0.1888, rot_err: 0.2455\n",
      "q:seq13/frame00247.png: inlier_ratio: 0.98 (675), trans_err: 0.1029, rot_err: 0.1480\n",
      "q:seq13/frame00249.png: inlier_ratio: 0.93 (1080), trans_err: 0.2469, rot_err: 0.3026\n",
      "q:seq13/frame00244.png: inlier_ratio: 0.99 (1197), trans_err: 0.1129, rot_err: 0.0396\n",
      "q:seq13/frame00263.png: inlier_ratio: 0.96 (1741), trans_err: 0.0756, rot_err: 0.2921\n",
      "q:seq13/frame00264.png: inlier_ratio: 0.98 (1914), trans_err: 0.0667, rot_err: 0.1312\n",
      "q:seq13/frame00265.png: inlier_ratio: 0.98 (1827), trans_err: 0.0929, rot_err: 0.2017\n",
      "q:seq13/frame00266.png: inlier_ratio: 0.96 (1613), trans_err: 0.1169, rot_err: 0.6330\n",
      "q:seq13/frame00262.png: inlier_ratio: 0.95 (1913), trans_err: 0.1121, rot_err: 0.2471\n",
      "q:seq13/frame00267.png: inlier_ratio: 0.97 (1407), trans_err: 0.1052, rot_err: 0.1725\n",
      "q:seq13/frame00268.png: inlier_ratio: 0.97 (1447), trans_err: 0.0831, rot_err: 0.1769\n",
      "q:seq13/frame00269.png: inlier_ratio: 0.98 (1202), trans_err: 0.1116, rot_err: 0.1583\n",
      "q:seq13/frame00273.png: inlier_ratio: 0.95 (1369), trans_err: 0.2024, rot_err: 0.5367\n",
      "q:seq13/frame00272.png: inlier_ratio: 0.96 (1454), trans_err: 0.1114, rot_err: 0.4813\n",
      "q:seq13/frame00271.png: inlier_ratio: 0.97 (1611), trans_err: 0.1305, rot_err: 0.5082\n",
      "q:seq13/frame00270.png: inlier_ratio: 0.95 (1154), trans_err: 0.1073, rot_err: 0.3583\n",
      "q:seq13/frame00261.png: inlier_ratio: 0.93 (1305), trans_err: 0.1075, rot_err: 0.2203\n",
      "q:seq13/frame00275.png: inlier_ratio: 0.96 (1436), trans_err: 0.1152, rot_err: 0.3039\n",
      "q:seq13/frame00276.png: inlier_ratio: 0.97 (1499), trans_err: 0.1352, rot_err: 0.4102\n",
      "q:seq13/frame00259.png: inlier_ratio: 0.96 (1670), trans_err: 0.1056, rot_err: 0.3605\n",
      "q:seq13/frame00258.png: inlier_ratio: 0.97 (1552), trans_err: 0.1122, rot_err: 0.3528\n",
      "q:seq13/frame00257.png: inlier_ratio: 0.96 (1011), trans_err: 0.1159, rot_err: 0.4035\n",
      "q:seq13/frame00274.png: inlier_ratio: 0.96 (1480), trans_err: 0.1171, rot_err: 0.2131\n",
      "q:seq13/frame00260.png: inlier_ratio: 0.93 (1213), trans_err: 0.1487, rot_err: 0.6367\n",
      "q:seq13/frame00279.png: inlier_ratio: 0.94 (1261), trans_err: 0.1539, rot_err: 0.2455\n",
      "q:seq13/frame00278.png: inlier_ratio: 0.96 (1290), trans_err: 0.1481, rot_err: 0.3128\n",
      "q:seq13/frame00280.png: inlier_ratio: 0.93 (1433), trans_err: 0.2024, rot_err: 0.7868\n",
      "q:seq13/frame00281.png: inlier_ratio: 0.95 (1089), trans_err: 0.0826, rot_err: 0.0740\n",
      "q:seq13/frame00282.png: inlier_ratio: 0.94 (1450), trans_err: 0.1449, rot_err: 0.2324\n",
      "q:seq13/frame00283.png: inlier_ratio: 0.96 (1048), trans_err: 0.1220, rot_err: 0.2727\n",
      "q:seq13/frame00284.png: inlier_ratio: 0.95 (1035), trans_err: 0.1052, rot_err: 0.4325\n",
      "q:seq13/frame00250.png: inlier_ratio: 0.93 (908), trans_err: 0.1810, rot_err: 0.5560\n",
      "q:seq13/frame00251.png: inlier_ratio: 0.93 (1229), trans_err: 0.3201, rot_err: 1.2027\n",
      "q:seq13/frame00255.png: inlier_ratio: 0.91 (717), trans_err: 0.1150, rot_err: 0.2907\n",
      "q:seq13/frame00254.png: inlier_ratio: 0.96 (786), trans_err: 0.1741, rot_err: 0.6085\n",
      "q:seq13/frame00253.png: inlier_ratio: 0.95 (869), trans_err: 0.1383, rot_err: 0.4926\n",
      "q:seq13/frame00256.png: inlier_ratio: 0.96 (763), trans_err: 0.1214, rot_err: 0.1399\n",
      "q:seq13/frame00252.png: inlier_ratio: 0.93 (721), trans_err: 0.1435, rot_err: 0.6206\n",
      "q:seq13/frame00277.png: inlier_ratio: 0.97 (1069), trans_err: 0.1495, rot_err: 0.3956\n",
      "q:seq13/frame00285.png: inlier_ratio: 0.94 (1389), trans_err: 0.3093, rot_err: 0.7285\n",
      "q:seq13/frame00286.png: inlier_ratio: 0.94 (1498), trans_err: 0.1858, rot_err: 0.3449\n",
      "q:seq13/frame00287.png: inlier_ratio: 0.96 (1830), trans_err: 0.1183, rot_err: 0.1607\n",
      "q:seq13/frame00288.png: inlier_ratio: 0.95 (1914), trans_err: 0.1802, rot_err: 0.2669\n",
      "q:seq13/frame00289.png: inlier_ratio: 0.95 (1858), trans_err: 0.1505, rot_err: 0.1791\n",
      "q:seq13/frame00290.png: inlier_ratio: 0.95 (1882), trans_err: 0.1687, rot_err: 0.2324\n",
      "q:seq13/frame00291.png: inlier_ratio: 0.97 (1833), trans_err: 0.1537, rot_err: 0.2221\n",
      "q:seq13/frame00292.png: inlier_ratio: 0.97 (1670), trans_err: 0.1150, rot_err: 0.2256\n",
      "q:seq13/frame00293.png: inlier_ratio: 0.95 (1648), trans_err: 0.1849, rot_err: 0.4006\n",
      "q:seq13/frame00294.png: inlier_ratio: 0.97 (1524), trans_err: 0.1137, rot_err: 0.1813\n",
      "q:seq13/frame00295.png: inlier_ratio: 0.94 (1584), trans_err: 0.1387, rot_err: 0.2825\n",
      "q:seq13/frame00296.png: inlier_ratio: 0.94 (1622), trans_err: 0.0980, rot_err: 0.3505\n",
      "q:seq13/frame00297.png: inlier_ratio: 0.93 (1428), trans_err: 0.1187, rot_err: 0.3701\n",
      "q:seq13/frame00298.png: inlier_ratio: 0.95 (1394), trans_err: 0.1051, rot_err: 0.3449\n",
      "q:seq13/frame00299.png: inlier_ratio: 0.97 (1578), trans_err: 0.1251, rot_err: 0.4234\n",
      "q:seq13/frame00301.png: inlier_ratio: 0.93 (1233), trans_err: 0.1533, rot_err: 0.4965\n",
      "q:seq13/frame00302.png: inlier_ratio: 0.94 (999), trans_err: 0.1118, rot_err: 0.2948\n",
      "q:seq13/frame00303.png: inlier_ratio: 0.97 (1012), trans_err: 0.0989, rot_err: 0.3583\n",
      "q:seq13/frame00304.png: inlier_ratio: 0.94 (889), trans_err: 0.0687, rot_err: 0.1856\n",
      "q:seq13/frame00305.png: inlier_ratio: 0.89 (820), trans_err: 0.1398, rot_err: 0.4006\n",
      "q:seq13/frame00306.png: inlier_ratio: 0.95 (828), trans_err: 0.0796, rot_err: 0.3937\n",
      "q:seq13/frame00307.png: inlier_ratio: 0.93 (976), trans_err: 0.0966, rot_err: 0.3937\n",
      "q:seq13/frame00300.png: inlier_ratio: 0.94 (1197), trans_err: 0.1566, rot_err: 0.4325\n",
      "q:seq3/frame00082.png: inlier_ratio: 0.87 (571), trans_err: 0.2063, rot_err: 0.9804\n",
      "q:seq3/frame00098.png: inlier_ratio: 0.94 (722), trans_err: 0.0796, rot_err: 0.2487\n",
      "q:seq3/frame00097.png: inlier_ratio: 0.92 (1087), trans_err: 0.1237, rot_err: 0.4829\n",
      "q:seq3/frame00096.png: inlier_ratio: 0.97 (1315), trans_err: 0.0812, rot_err: 0.1583\n",
      "q:seq3/frame00095.png: inlier_ratio: 0.97 (1374), trans_err: 0.0932, rot_err: 0.0791\n",
      "q:seq3/frame00081.png: inlier_ratio: 0.95 (1270), trans_err: 0.0735, rot_err: 0.2075\n",
      "q:seq3/frame00094.png: inlier_ratio: 0.95 (1445), trans_err: 0.1065, rot_err: 0.0560\n",
      "q:seq3/frame00083.png: inlier_ratio: 0.97 (691), trans_err: 0.0554, rot_err: 0.0626\n",
      "q:seq3/frame00084.png: inlier_ratio: 0.96 (732), trans_err: 0.0584, rot_err: 0.2056\n",
      "q:seq3/frame00079.png: inlier_ratio: 0.95 (1427), trans_err: 0.0585, rot_err: 0.3140\n",
      "q:seq3/frame00080.png: inlier_ratio: 0.96 (1383), trans_err: 0.0785, rot_err: 0.3039\n",
      "q:seq3/frame00085.png: inlier_ratio: 0.97 (489), trans_err: 0.0956, rot_err: 0.3494\n",
      "q:seq3/frame00086.png: inlier_ratio: 0.98 (686), trans_err: 0.0826, rot_err: 0.2149\n",
      "q:seq3/frame00087.png: inlier_ratio: 0.92 (692), trans_err: 0.0790, rot_err: 0.4206\n",
      "q:seq3/frame00088.png: inlier_ratio: 0.94 (389), trans_err: 0.0846, rot_err: 0.1856\n",
      "q:seq5/frame00022.png: inlier_ratio: 0.95 (1105), trans_err: 0.0797, rot_err: 0.1342\n",
      "q:seq5/frame00021.png: inlier_ratio: 0.95 (1136), trans_err: 0.0798, rot_err: 0.1791\n",
      "q:seq5/frame00023.png: inlier_ratio: 0.93 (1090), trans_err: 0.0812, rot_err: 0.1813\n",
      "q:seq5/frame00020.png: inlier_ratio: 0.92 (1029), trans_err: 0.0873, rot_err: 0.3583\n",
      "q:seq13/frame00308.png: inlier_ratio: 0.93 (578), trans_err: 0.0718, rot_err: 0.2609\n",
      "q:seq5/frame00019.png: inlier_ratio: 0.95 (733), trans_err: 0.0837, rot_err: 0.2867\n",
      "q:seq5/frame00018.png: inlier_ratio: 0.96 (620), trans_err: 0.0852, rot_err: 0.4234\n",
      "q:seq5/frame00017.png: inlier_ratio: 0.94 (716), trans_err: 0.1177, rot_err: 0.5234\n",
      "q:seq5/frame00016.png: inlier_ratio: 0.96 (709), trans_err: 0.1405, rot_err: 0.6620\n",
      "q:seq5/frame00015.png: inlier_ratio: 0.95 (744), trans_err: 0.1288, rot_err: 0.5226\n",
      "q:seq5/frame00014.png: inlier_ratio: 0.90 (636), trans_err: 0.1920, rot_err: 0.6453\n",
      "q:seq5/frame00013.png: inlier_ratio: 0.96 (691), trans_err: 0.1179, rot_err: 0.4441\n",
      "q:seq5/frame00012.png: inlier_ratio: 0.96 (716), trans_err: 0.1512, rot_err: 0.6513\n",
      "q:seq5/frame00011.png: inlier_ratio: 0.94 (1001), trans_err: 0.1797, rot_err: 0.5196\n",
      "q:seq5/frame00010.png: inlier_ratio: 0.95 (959), trans_err: 0.1618, rot_err: 0.6097\n",
      "q:seq5/frame00009.png: inlier_ratio: 0.93 (777), trans_err: 0.1944, rot_err: 0.8337\n",
      "q:seq5/frame00008.png: inlier_ratio: 0.97 (742), trans_err: 0.1399, rot_err: 0.5539\n",
      "q:seq5/frame00007.png: inlier_ratio: 0.89 (649), trans_err: 0.2936, rot_err: 1.0044\n",
      "q:seq5/frame00005.png: inlier_ratio: 0.96 (672), trans_err: 0.2945, rot_err: 1.0130\n",
      "q:seq5/frame00004.png: inlier_ratio: 0.95 (665), trans_err: 0.2705, rot_err: 0.8758\n",
      "q:seq5/frame00002.png: inlier_ratio: 0.96 (838), trans_err: 0.3340, rot_err: 1.0079\n",
      "q:seq5/frame00001.png: inlier_ratio: 0.95 (860), trans_err: 0.3323, rot_err: 1.0118\n",
      "q:seq5/frame00003.png: inlier_ratio: 0.95 (849), trans_err: 0.3400, rot_err: 1.0153\n",
      "q:seq5/frame00006.png: inlier_ratio: 0.94 (601), trans_err: 0.1945, rot_err: 0.7391\n",
      "q:seq13/frame00002.png: inlier_ratio: 0.98 (1658), trans_err: 0.1549, rot_err: 0.2961\n",
      "q:seq13/frame00001.png: inlier_ratio: 0.98 (1552), trans_err: 0.1784, rot_err: 0.3733\n",
      "q:seq13/frame00003.png: inlier_ratio: 0.95 (1593), trans_err: 0.1347, rot_err: 0.2221\n",
      "q:seq13/frame00004.png: inlier_ratio: 0.94 (1427), trans_err: 0.2218, rot_err: 0.5020\n",
      "q:seq13/frame00005.png: inlier_ratio: 0.97 (1795), trans_err: 0.1737, rot_err: 0.3712\n",
      "q:seq13/frame00006.png: inlier_ratio: 0.97 (1475), trans_err: 0.1512, rot_err: 0.4639\n",
      "q:seq5/frame00032.png: inlier_ratio: 0.95 (886), trans_err: 0.0692, rot_err: 0.2471\n",
      "q:seq5/frame00033.png: inlier_ratio: 0.91 (848), trans_err: 0.1267, rot_err: 0.6085\n",
      "q:seq5/frame00034.png: inlier_ratio: 0.96 (1068), trans_err: 0.0627, rot_err: 0.1399\n",
      "q:seq5/frame00035.png: inlier_ratio: 0.94 (1041), trans_err: 0.0779, rot_err: 0.1631\n",
      "q:seq5/frame00037.png: inlier_ratio: 0.96 (1024), trans_err: 0.0795, rot_err: 0.1791\n",
      "q:seq5/frame00036.png: inlier_ratio: 0.95 (1173), trans_err: 0.0768, rot_err: 0.2167\n",
      "q:seq5/frame00038.png: inlier_ratio: 0.93 (947), trans_err: 0.0408, rot_err: 0.3065\n",
      "q:seq5/frame00031.png: inlier_ratio: 0.93 (846), trans_err: 0.0802, rot_err: 0.5679\n",
      "q:seq5/frame00030.png: inlier_ratio: 0.91 (729), trans_err: 0.0577, rot_err: 0.4015\n",
      "q:seq5/frame00079.png: inlier_ratio: 0.97 (1138), trans_err: 0.1413, rot_err: 0.3805\n",
      "q:seq5/frame00078.png: inlier_ratio: 0.94 (1257), trans_err: 0.1561, rot_err: 0.3461\n",
      "q:seq5/frame00077.png: inlier_ratio: 0.97 (1235), trans_err: 0.1518, rot_err: 0.3795\n",
      "q:seq5/frame00080.png: inlier_ratio: 0.95 (713), trans_err: 0.1489, rot_err: 0.3153\n",
      "q:seq5/frame00081.png: inlier_ratio: 0.94 (779), trans_err: 0.1709, rot_err: 0.7828\n",
      "q:seq5/frame00082.png: inlier_ratio: 0.91 (723), trans_err: 0.1704, rot_err: 0.8200\n",
      "q:seq5/frame00039.png: inlier_ratio: 0.95 (899), trans_err: 0.0564, rot_err: 0.3550\n",
      "q:seq5/frame00040.png: inlier_ratio: 0.95 (925), trans_err: 0.1289, rot_err: 0.6386\n",
      "q:seq5/frame00076.png: inlier_ratio: 0.91 (962), trans_err: 0.1730, rot_err: 0.6944\n",
      "q:seq5/frame00075.png: inlier_ratio: 0.95 (1164), trans_err: 0.1588, rot_err: 0.5781\n",
      "q:seq5/frame00074.png: inlier_ratio: 0.96 (1310), trans_err: 0.1277, rot_err: 0.3785\n",
      "q:seq5/frame00073.png: inlier_ratio: 0.97 (1379), trans_err: 0.1261, rot_err: 0.2784\n",
      "q:seq3/frame00048.png: inlier_ratio: 0.93 (1359), trans_err: 0.1500, rot_err: 0.4571\n",
      "q:seq3/frame00049.png: inlier_ratio: 0.96 (1261), trans_err: 0.0718, rot_err: 0.0485\n",
      "q:seq3/frame00050.png: inlier_ratio: 0.97 (1222), trans_err: 0.1513, rot_err: 0.2654\n",
      "q:seq3/frame00051.png: inlier_ratio: 0.97 (1376), trans_err: 0.1581, rot_err: 0.4406\n",
      "q:seq3/frame00052.png: inlier_ratio: 0.96 (1400), trans_err: 0.1312, rot_err: 0.3140\n",
      "q:seq3/frame00053.png: inlier_ratio: 0.93 (1352), trans_err: 0.1465, rot_err: 0.4715\n",
      "q:seq3/frame00034.png: inlier_ratio: 0.82 (1153), trans_err: 0.2592, rot_err: 0.5895\n",
      "q:seq3/frame00047.png: inlier_ratio: 0.91 (1150), trans_err: 0.1734, rot_err: 0.4781\n",
      "q:seq3/frame00046.png: inlier_ratio: 0.95 (1164), trans_err: 0.0851, rot_err: 0.0740\n",
      "q:seq3/frame00045.png: inlier_ratio: 0.96 (1165), trans_err: 0.0578, rot_err: 0.1938\n",
      "q:seq3/frame00035.png: inlier_ratio: 0.94 (1655), trans_err: 0.1895, rot_err: 0.6525\n",
      "q:seq3/frame00054.png: inlier_ratio: 0.92 (1499), trans_err: 0.0618, rot_err: 0.0560\n",
      "q:seq3/frame00055.png: inlier_ratio: 0.92 (1410), trans_err: 0.0703, rot_err: 0.1047\n",
      "q:seq5/frame00072.png: inlier_ratio: 0.98 (1280), trans_err: 0.0660, rot_err: 0.0969\n",
      "q:seq5/frame00071.png: inlier_ratio: 0.96 (1492), trans_err: 0.0647, rot_err: 0.0791\n",
      "q:seq5/frame00045.png: inlier_ratio: 0.97 (1069), trans_err: 0.0869, rot_err: 0.3438\n",
      "q:seq5/frame00046.png: inlier_ratio: 0.97 (1130), trans_err: 0.1076, rot_err: 0.3483\n",
      "q:seq5/frame00047.png: inlier_ratio: 0.98 (1014), trans_err: 0.1402, rot_err: 0.4025\n",
      "q:seq5/frame00048.png: inlier_ratio: 0.96 (1231), trans_err: 0.3200, rot_err: 1.1191\n",
      "q:seq5/frame00043.png: inlier_ratio: 0.94 (825), trans_err: 0.1502, rot_err: 0.4234\n",
      "q:seq5/frame00044.png: inlier_ratio: 0.96 (1215), trans_err: 0.0762, rot_err: 0.1399\n",
      "q:seq13/frame00322.png: inlier_ratio: 0.95 (953), trans_err: 0.0905, rot_err: 0.3026\n",
      "q:seq13/frame00323.png: inlier_ratio: 0.92 (975), trans_err: 0.1055, rot_err: 0.4215\n",
      "q:seq13/frame00320.png: inlier_ratio: 0.96 (928), trans_err: 0.1134, rot_err: 0.3785\n",
      "q:seq13/frame00321.png: inlier_ratio: 0.94 (1057), trans_err: 0.0696, rot_err: 0.2880\n",
      "q:seq13/frame00326.png: inlier_ratio: 0.96 (1257), trans_err: 0.0891, rot_err: 0.3449\n",
      "q:seq13/frame00327.png: inlier_ratio: 0.96 (1376), trans_err: 0.1212, rot_err: 0.4546\n",
      "q:seq13/frame00328.png: inlier_ratio: 0.96 (1537), trans_err: 0.0725, rot_err: 0.1791\n",
      "q:seq13/frame00329.png: inlier_ratio: 0.95 (1479), trans_err: 0.0854, rot_err: 0.2812\n",
      "q:seq13/frame00325.png: inlier_ratio: 0.91 (960), trans_err: 0.1374, rot_err: 0.4748\n",
      "q:seq13/frame00324.png: inlier_ratio: 0.96 (1046), trans_err: 0.0707, rot_err: 0.2407\n",
      "q:seq13/frame00330.png: inlier_ratio: 0.95 (1573), trans_err: 0.0866, rot_err: 0.2455\n",
      "q:seq13/frame00022.png: inlier_ratio: 0.96 (1302), trans_err: 0.1200, rot_err: 0.1791\n",
      "q:seq5/frame00049.png: inlier_ratio: 0.97 (1605), trans_err: 0.1448, rot_err: 0.3065\n",
      "q:seq5/frame00050.png: inlier_ratio: 0.97 (1742), trans_err: 0.0994, rot_err: 0.1009\n",
      "q:seq5/frame00051.png: inlier_ratio: 0.97 (1640), trans_err: 0.1431, rot_err: 0.1897\n",
      "q:seq13/frame00019.png: inlier_ratio: 0.96 (1112), trans_err: 0.1230, rot_err: 0.4764\n",
      "q:seq13/frame00018.png: inlier_ratio: 0.95 (1250), trans_err: 0.1405, rot_err: 0.5497\n",
      "q:seq13/frame00023.png: inlier_ratio: 0.87 (1002), trans_err: 0.1737, rot_err: 0.3743\n",
      "q:seq5/frame00052.png: inlier_ratio: 0.97 (1569), trans_err: 0.1021, rot_err: 0.1187\n",
      "q:seq5/frame00053.png: inlier_ratio: 0.98 (1994), trans_err: 0.1414, rot_err: 0.2439\n",
      "q:seq13/frame00021.png: inlier_ratio: 0.97 (1262), trans_err: 0.0886, rot_err: 0.2502\n",
      "q:seq13/frame00020.png: inlier_ratio: 0.94 (1159), trans_err: 0.1946, rot_err: 0.7652\n",
      "q:seq13/frame00319.png: inlier_ratio: 0.94 (941), trans_err: 0.0859, rot_err: 0.1219\n",
      "q:seq13/frame00332.png: inlier_ratio: 0.95 (1421), trans_err: 0.0848, rot_err: 0.3052\n",
      "q:seq13/frame00331.png: inlier_ratio: 0.95 (1404), trans_err: 0.0912, rot_err: 0.3190\n",
      "q:seq13/frame00333.png: inlier_ratio: 0.93 (1529), trans_err: 0.0870, rot_err: 0.0396\n",
      "q:seq5/frame00070.png: inlier_ratio: 0.97 (1721), trans_err: 0.1488, rot_err: 0.2439\n",
      "q:seq5/frame00054.png: inlier_ratio: 0.97 (2419), trans_err: 0.1284, rot_err: 0.0000\n",
      "q:seq5/frame00055.png: inlier_ratio: 0.95 (1998), trans_err: 0.1597, rot_err: 0.1856\n",
      "q:seq5/frame00056.png: inlier_ratio: 0.96 (1933), trans_err: 0.1593, rot_err: 0.1371\n",
      "q:seq5/frame00058.png: inlier_ratio: 0.97 (1894), trans_err: 0.1276, rot_err: 0.2683\n",
      "q:seq5/frame00057.png: inlier_ratio: 0.97 (2246), trans_err: 0.1497, rot_err: 0.2112\n",
      "q:seq5/frame00060.png: inlier_ratio: 0.98 (2261), trans_err: 0.1305, rot_err: 0.1558\n",
      "q:seq3/frame00044.png: inlier_ratio: 0.96 (1525), trans_err: 0.1453, rot_err: 0.3877\n",
      "q:seq3/frame00027.png: inlier_ratio: 0.96 (1752), trans_err: 0.2409, rot_err: 0.8393\n",
      "q:seq3/frame00026.png: inlier_ratio: 0.97 (1494), trans_err: 0.1598, rot_err: 0.4234\n",
      "q:seq3/frame00028.png: inlier_ratio: 0.97 (1645), trans_err: 0.1279, rot_err: 0.2987\n",
      "q:seq3/frame00030.png: inlier_ratio: 0.95 (1994), trans_err: 0.1363, rot_err: 0.4112\n",
      "q:seq3/frame00029.png: inlier_ratio: 0.97 (2224), trans_err: 0.1388, rot_err: 0.2784\n",
      "q:seq3/frame00025.png: inlier_ratio: 0.96 (1794), trans_err: 0.2318, rot_err: 0.5665\n",
      "q:seq5/frame00061.png: inlier_ratio: 0.96 (2242), trans_err: 0.1553, rot_err: 0.2564\n",
      "q:seq5/frame00062.png: inlier_ratio: 0.98 (2219), trans_err: 0.1491, rot_err: 0.2017\n",
      "q:seq5/frame00063.png: inlier_ratio: 0.97 (2210), trans_err: 0.1452, rot_err: 0.2131\n",
      "q:seq5/frame00064.png: inlier_ratio: 0.97 (2239), trans_err: 0.1227, rot_err: 0.1958\n",
      "q:seq5/frame00065.png: inlier_ratio: 0.98 (2082), trans_err: 0.0793, rot_err: 0.1791\n",
      "q:seq13/frame00024.png: inlier_ratio: 0.95 (1424), trans_err: 0.1129, rot_err: 0.4316\n",
      "q:seq13/frame00028.png: inlier_ratio: 0.96 (1095), trans_err: 0.1109, rot_err: 0.3743\n",
      "q:seq13/frame00027.png: inlier_ratio: 0.94 (1107), trans_err: 0.1382, rot_err: 0.4989\n",
      "q:seq13/frame00026.png: inlier_ratio: 0.98 (1522), trans_err: 0.0604, rot_err: 0.2825\n",
      "q:seq13/frame00336.png: inlier_ratio: 0.96 (1739), trans_err: 0.0821, rot_err: 0.1813\n",
      "q:seq13/frame00335.png: inlier_ratio: 0.95 (1604), trans_err: 0.0847, rot_err: 0.0560\n",
      "q:seq13/frame00337.png: inlier_ratio: 0.92 (1476), trans_err: 0.1156, rot_err: 0.1558\n",
      "q:seq5/frame00059.png: inlier_ratio: 0.95 (2306), trans_err: 0.0800, rot_err: 0.0626\n",
      "q:seq5/frame00069.png: inlier_ratio: 0.98 (1959), trans_err: 0.1501, rot_err: 0.2341\n",
      "q:seq5/frame00068.png: inlier_ratio: 0.95 (1853), trans_err: 0.1724, rot_err: 0.2533\n",
      "q:seq5/frame00067.png: inlier_ratio: 0.97 (1515), trans_err: 0.1818, rot_err: 0.4511\n",
      "q:seq3/frame00056.png: inlier_ratio: 0.96 (1587), trans_err: 0.1618, rot_err: 0.2549\n",
      "q:seq3/frame00057.png: inlier_ratio: 0.95 (1533), trans_err: 0.1514, rot_err: 0.2341\n",
      "q:seq3/frame00066.png: inlier_ratio: 0.97 (1488), trans_err: 0.1701, rot_err: 0.5181\n",
      "q:seq3/frame00065.png: inlier_ratio: 0.96 (1396), trans_err: 0.1698, rot_err: 0.4352\n",
      "q:seq3/frame00064.png: inlier_ratio: 0.97 (1427), trans_err: 0.1342, rot_err: 0.3226\n",
      "q:seq3/frame00067.png: inlier_ratio: 0.97 (1466), trans_err: 0.1405, rot_err: 0.3785\n",
      "q:seq3/frame00063.png: inlier_ratio: 0.95 (1424), trans_err: 0.2312, rot_err: 0.6743\n",
      "q:seq3/frame00062.png: inlier_ratio: 0.97 (1421), trans_err: 0.1838, rot_err: 0.4821\n",
      "q:seq13/frame00318.png: inlier_ratio: 0.92 (860), trans_err: 0.0997, rot_err: 0.3165\n",
      "q:seq13/frame00029.png: inlier_ratio: 0.93 (659), trans_err: 0.1164, rot_err: 0.3472\n",
      "q:seq3/frame00032.png: inlier_ratio: 0.98 (2198), trans_err: 0.2156, rot_err: 0.6085\n",
      "q:seq3/frame00033.png: inlier_ratio: 0.96 (2036), trans_err: 0.1114, rot_err: 0.2094\n",
      "q:seq13/frame00025.png: inlier_ratio: 0.96 (1484), trans_err: 0.1155, rot_err: 0.3449\n",
      "q:seq13/frame00334.png: inlier_ratio: 0.96 (1528), trans_err: 0.0901, rot_err: 0.0791\n",
      "q:seq3/frame00031.png: inlier_ratio: 0.97 (2120), trans_err: 0.1401, rot_err: 0.3115\n",
      "q:seq13/frame00338.png: inlier_ratio: 0.97 (1659), trans_err: 0.1098, rot_err: 0.3426\n",
      "q:seq3/frame00058.png: inlier_ratio: 0.97 (1640), trans_err: 0.1572, rot_err: 0.4015\n",
      "q:seq3/frame00061.png: inlier_ratio: 0.96 (1591), trans_err: 0.2401, rot_err: 0.6507\n",
      "q:seq3/frame00059.png: inlier_ratio: 0.96 (1365), trans_err: 0.1173, rot_err: 0.2256\n",
      "q:seq3/frame00060.png: inlier_ratio: 0.96 (1400), trans_err: 0.1074, rot_err: 0.1725\n",
      "q:seq13/frame00008.png: inlier_ratio: 0.96 (1494), trans_err: 0.1259, rot_err: 0.4520\n",
      "q:seq13/frame00007.png: inlier_ratio: 0.98 (1466), trans_err: 0.1544, rot_err: 0.4243\n",
      "q:seq3/frame00036.png: inlier_ratio: 0.98 (1888), trans_err: 0.2347, rot_err: 0.5902\n",
      "q:seq5/frame00066.png: inlier_ratio: 0.91 (1795), trans_err: 0.0501, rot_err: 0.2741\n",
      "q:seq13/frame00341.png: inlier_ratio: 0.98 (1464), trans_err: 0.1099, rot_err: 0.1725\n",
      "q:seq13/frame00031.png: inlier_ratio: 0.98 (1014), trans_err: 0.1080, rot_err: 0.2238\n",
      "q:seq13/frame00032.png: inlier_ratio: 0.92 (666), trans_err: 0.1331, rot_err: 0.2921\n",
      "q:seq13/frame00033.png: inlier_ratio: 0.96 (1075), trans_err: 0.1049, rot_err: 0.3690\n",
      "q:seq13/frame00034.png: inlier_ratio: 0.95 (823), trans_err: 0.1655, rot_err: 0.7155\n",
      "q:seq13/frame00342.png: inlier_ratio: 0.97 (1235), trans_err: 0.0885, rot_err: 0.2683\n",
      "q:seq3/frame00078.png: inlier_ratio: 0.96 (1374), trans_err: 0.0768, rot_err: 0.3039\n",
      "q:seq3/frame00016.png: inlier_ratio: 0.97 (1563), trans_err: 0.1518, rot_err: 0.1998\n",
      "q:seq3/frame00015.png: inlier_ratio: 0.96 (1405), trans_err: 0.1725, rot_err: 0.1399\n",
      "q:seq3/frame00014.png: inlier_ratio: 0.95 (1481), trans_err: 0.1536, rot_err: 0.4957\n",
      "q:seq3/frame00013.png: inlier_ratio: 0.91 (1189), trans_err: 0.1677, rot_err: 0.4083\n",
      "q:seq3/frame00012.png: inlier_ratio: 0.95 (1250), trans_err: 0.1255, rot_err: 0.0740\n",
      "q:seq3/frame00001.png: inlier_ratio: 0.95 (1843), trans_err: 0.1820, rot_err: 0.1702\n",
      "q:seq3/frame00002.png: inlier_ratio: 0.96 (1663), trans_err: 0.1754, rot_err: 0.1938\n",
      "q:seq3/frame00003.png: inlier_ratio: 0.95 (1708), trans_err: 0.1688, rot_err: 0.2075\n",
      "q:seq3/frame00011.png: inlier_ratio: 0.95 (1918), trans_err: 0.1114, rot_err: 0.3505\n",
      "q:seq3/frame00004.png: inlier_ratio: 0.95 (1679), trans_err: 0.1736, rot_err: 0.2853\n",
      "q:seq3/frame00017.png: inlier_ratio: 0.96 (1703), trans_err: 0.1363, rot_err: 0.2112\n",
      "q:seq3/frame00018.png: inlier_ratio: 0.93 (2159), trans_err: 0.2104, rot_err: 0.6026\n",
      "q:seq13/frame00030.png: inlier_ratio: 0.94 (675), trans_err: 0.1115, rot_err: 0.4397\n",
      "q:seq13/frame00339.png: inlier_ratio: 0.96 (1511), trans_err: 0.1232, rot_err: 0.1480\n",
      "q:seq13/frame00340.png: inlier_ratio: 0.95 (1779), trans_err: 0.0876, rot_err: 0.1119\n",
      "q:seq13/frame00037.png: inlier_ratio: 0.94 (900), trans_err: 0.1051, rot_err: 0.1009\n",
      "q:seq13/frame00035.png: inlier_ratio: 0.95 (951), trans_err: 0.1707, rot_err: 0.5774\n",
      "q:seq13/frame00036.png: inlier_ratio: 0.93 (766), trans_err: 0.2421, rot_err: 0.8825\n",
      "q:seq13/frame00038.png: inlier_ratio: 0.96 (1140), trans_err: 0.1130, rot_err: 0.0928\n",
      "q:seq13/frame00039.png: inlier_ratio: 0.90 (536), trans_err: 0.2184, rot_err: 0.4064\n",
      "q:seq13/frame00040.png: inlier_ratio: 0.96 (1301), trans_err: 0.1111, rot_err: 0.0626\n",
      "q:seq13/frame00041.png: inlier_ratio: 0.96 (1101), trans_err: 0.1418, rot_err: 0.1454\n",
      "q:seq13/frame00042.png: inlier_ratio: 0.96 (876), trans_err: 0.1229, rot_err: 0.1342\n",
      "q:seq13/frame00043.png: inlier_ratio: 0.96 (1059), trans_err: 0.1815, rot_err: 0.2594\n",
      "q:seq13/frame00044.png: inlier_ratio: 0.97 (1292), trans_err: 0.1292, rot_err: 0.1251\n",
      "q:seq13/frame00046.png: inlier_ratio: 0.96 (1267), trans_err: 0.1379, rot_err: 0.1119\n",
      "q:seq13/frame00045.png: inlier_ratio: 0.96 (1304), trans_err: 0.1247, rot_err: 0.0280\n",
      "q:seq13/frame00047.png: inlier_ratio: 0.96 (1249), trans_err: 0.1232, rot_err: 0.1938\n",
      "q:seq13/frame00048.png: inlier_ratio: 0.94 (1226), trans_err: 0.1650, rot_err: 0.1219\n",
      "q:seq13/frame00049.png: inlier_ratio: 0.92 (1132), trans_err: 0.0842, rot_err: 0.2533\n",
      "q:seq13/frame00050.png: inlier_ratio: 0.97 (822), trans_err: 0.2089, rot_err: 0.1532\n",
      "q:seq13/frame00055.png: inlier_ratio: 0.94 (1011), trans_err: 0.1742, rot_err: 0.3178\n",
      "q:seq13/frame00054.png: inlier_ratio: 0.96 (809), trans_err: 0.1479, rot_err: 0.3937\n",
      "q:seq13/frame00056.png: inlier_ratio: 0.96 (856), trans_err: 0.2117, rot_err: 0.1918\n",
      "q:seq13/frame00053.png: inlier_ratio: 0.93 (692), trans_err: 0.1262, rot_err: 0.0685\n",
      "q:seq13/frame00051.png: inlier_ratio: 0.92 (908), trans_err: 0.0961, rot_err: 0.1427\n",
      "q:seq13/frame00052.png: inlier_ratio: 0.95 (957), trans_err: 0.1639, rot_err: 0.0885\n",
      "q:seq13/frame00067.png: inlier_ratio: 0.96 (1376), trans_err: 0.1109, rot_err: 0.2727\n",
      "q:seq13/frame00066.png: inlier_ratio: 0.93 (1401), trans_err: 0.1842, rot_err: 0.5987\n",
      "q:seq13/frame00065.png: inlier_ratio: 0.91 (1513), trans_err: 0.1440, rot_err: 0.3214\n",
      "q:seq13/frame00072.png: inlier_ratio: 0.95 (1254), trans_err: 0.2047, rot_err: 0.3836\n",
      "q:seq13/frame00071.png: inlier_ratio: 0.98 (1348), trans_err: 0.1401, rot_err: 0.1607\n",
      "q:seq13/frame00070.png: inlier_ratio: 0.95 (1247), trans_err: 0.2549, rot_err: 0.4150\n",
      "q:seq13/frame00069.png: inlier_ratio: 0.98 (1380), trans_err: 0.1165, rot_err: 0.2518\n",
      "q:seq13/frame00068.png: inlier_ratio: 0.97 (1439), trans_err: 0.1595, rot_err: 0.1998\n",
      "q:seq13/frame00073.png: inlier_ratio: 0.97 (1604), trans_err: 0.1370, rot_err: 0.2741\n",
      "q:seq13/frame00064.png: inlier_ratio: 0.97 (1972), trans_err: 0.1601, rot_err: 0.1480\n",
      "q:seq13/frame00083.png: inlier_ratio: 0.95 (951), trans_err: 0.1591, rot_err: 0.6656\n",
      "q:seq13/frame00058.png: inlier_ratio: 0.96 (1633), trans_err: 0.2595, rot_err: 0.0485\n",
      "q:seq13/frame00057.png: inlier_ratio: 0.95 (1374), trans_err: 0.2073, rot_err: 0.2149\n",
      "q:seq13/frame00074.png: inlier_ratio: 0.95 (1721), trans_err: 0.1677, rot_err: 0.1978\n",
      "q:seq13/frame00082.png: inlier_ratio: 0.94 (799), trans_err: 0.1040, rot_err: 0.0791\n",
      "q:seq13/frame00081.png: inlier_ratio: 0.95 (823), trans_err: 0.0739, rot_err: 0.2290\n",
      "q:seq13/frame00080.png: inlier_ratio: 0.97 (765), trans_err: 0.0907, rot_err: 0.2934\n",
      "q:seq13/frame00079.png: inlier_ratio: 0.93 (913), trans_err: 0.1134, rot_err: 0.2094\n",
      "q:seq13/frame00078.png: inlier_ratio: 0.91 (865), trans_err: 0.0829, rot_err: 0.1371\n",
      "q:seq13/frame00076.png: inlier_ratio: 0.96 (1038), trans_err: 0.1439, rot_err: 0.1187\n",
      "q:seq13/frame00077.png: inlier_ratio: 0.93 (776), trans_err: 0.1795, rot_err: 0.1607\n",
      "q:seq13/frame00075.png: inlier_ratio: 0.97 (1396), trans_err: 0.1349, rot_err: 0.1312\n",
      "q:seq13/frame00106.png: inlier_ratio: 0.93 (781), trans_err: 0.1906, rot_err: 0.5271\n",
      "q:seq13/frame00105.png: inlier_ratio: 0.95 (674), trans_err: 0.1142, rot_err: 0.2934\n",
      "q:seq13/frame00104.png: inlier_ratio: 0.95 (674), trans_err: 0.1015, rot_err: 0.1631\n",
      "q:seq13/frame00103.png: inlier_ratio: 0.92 (620), trans_err: 0.1314, rot_err: 0.3753\n",
      "q:seq13/frame00102.png: inlier_ratio: 0.94 (649), trans_err: 0.1566, rot_err: 0.4102\n",
      "q:seq13/frame00114.png: inlier_ratio: 0.95 (914), trans_err: 0.1551, rot_err: 0.2203\n",
      "q:seq13/frame00113.png: inlier_ratio: 0.95 (924), trans_err: 0.0703, rot_err: 0.2131\n",
      "q:seq13/frame00115.png: inlier_ratio: 0.97 (904), trans_err: 0.1169, rot_err: 0.2770\n",
      "q:seq13/frame00112.png: inlier_ratio: 0.94 (794), trans_err: 0.0744, rot_err: 0.1958\n",
      "q:seq13/frame00111.png: inlier_ratio: 0.91 (764), trans_err: 0.1027, rot_err: 0.3263\n",
      "q:seq13/frame00116.png: inlier_ratio: 0.95 (987), trans_err: 0.1569, rot_err: 0.0560\n",
      "q:seq13/frame00117.png: inlier_ratio: 0.97 (796), trans_err: 0.1378, rot_err: 0.1084\n",
      "q:seq13/frame00118.png: inlier_ratio: 0.93 (1147), trans_err: 0.1692, rot_err: 0.0396\n",
      "q:seq13/frame00119.png: inlier_ratio: 0.95 (1089), trans_err: 0.1286, rot_err: 0.1918\n",
      "q:seq13/frame00120.png: inlier_ratio: 0.95 (1100), trans_err: 0.1501, rot_err: 0.0396\n",
      "q:seq13/frame00121.png: inlier_ratio: 0.96 (1020), trans_err: 0.1565, rot_err: 0.0740\n",
      "q:seq13/frame00092.png: inlier_ratio: 0.95 (853), trans_err: 0.1588, rot_err: 0.2056\n",
      "q:seq13/frame00091.png: inlier_ratio: 0.92 (910), trans_err: 0.2877, rot_err: 0.9258\n",
      "q:seq13/frame00093.png: inlier_ratio: 0.96 (877), trans_err: 0.1436, rot_err: 0.2907\n",
      "q:seq13/frame00094.png: inlier_ratio: 0.91 (734), trans_err: 0.3486, rot_err: 1.0932\n",
      "q:seq13/frame00122.png: inlier_ratio: 0.92 (1004), trans_err: 0.1227, rot_err: 0.0791\n",
      "q:seq13/frame00095.png: inlier_ratio: 0.95 (827), trans_err: 0.1365, rot_err: 0.2727\n",
      "q:seq13/frame00107.png: inlier_ratio: 0.92 (564), trans_err: 0.1193, rot_err: 0.3877\n",
      "q:seq13/frame00109.png: inlier_ratio: 0.92 (520), trans_err: 0.0884, rot_err: 0.2056\n",
      "q:seq13/frame00108.png: inlier_ratio: 0.94 (652), trans_err: 0.1029, rot_err: 0.2094\n",
      "q:seq13/frame00110.png: inlier_ratio: 0.97 (722), trans_err: 0.1029, rot_err: 0.1153\n",
      "q:seq13/frame00101.png: inlier_ratio: 0.95 (719), trans_err: 0.1839, rot_err: 0.4597\n",
      "q:seq13/frame00089.png: inlier_ratio: 0.94 (887), trans_err: 0.3209, rot_err: 0.7967\n",
      "q:seq13/frame00090.png: inlier_ratio: 0.90 (738), trans_err: 0.2093, rot_err: 0.6386\n",
      "q:seq13/frame00123.png: inlier_ratio: 0.95 (951), trans_err: 0.0818, rot_err: 0.0791\n",
      "q:seq13/frame00124.png: inlier_ratio: 0.96 (903), trans_err: 0.0996, rot_err: 0.1282\n",
      "q:seq13/frame00085.png: inlier_ratio: 0.97 (1073), trans_err: 0.1384, rot_err: 0.1342\n",
      "q:seq13/frame00063.png: inlier_ratio: 0.96 (1517), trans_err: 0.1853, rot_err: 0.0685\n",
      "q:seq13/frame00062.png: inlier_ratio: 0.97 (1390), trans_err: 0.2069, rot_err: 0.1047\n",
      "q:seq13/frame00059.png: inlier_ratio: 0.98 (1813), trans_err: 0.2145, rot_err: 0.1219\n",
      "q:seq13/frame00100.png: inlier_ratio: 0.89 (677), trans_err: 0.0248, rot_err: 0.1427\n",
      "q:seq13/frame00088.png: inlier_ratio: 0.95 (884), trans_err: 0.1953, rot_err: 0.4379\n",
      "q:seq13/frame00087.png: inlier_ratio: 0.96 (891), trans_err: 0.1373, rot_err: 0.0560\n",
      "q:seq13/frame00086.png: inlier_ratio: 0.97 (1017), trans_err: 0.1661, rot_err: 0.2256\n",
      "q:seq13/frame00060.png: inlier_ratio: 0.98 (1517), trans_err: 0.2295, rot_err: 0.2185\n",
      "q:seq13/frame00125.png: inlier_ratio: 0.95 (924), trans_err: 0.0886, rot_err: 0.1153\n",
      "q:seq13/frame00099.png: inlier_ratio: 0.91 (703), trans_err: 0.1376, rot_err: 0.1312\n",
      "q:seq13/frame00098.png: inlier_ratio: 0.87 (742), trans_err: 0.1017, rot_err: 0.1583\n",
      "q:seq13/frame00097.png: inlier_ratio: 0.89 (775), trans_err: 0.1398, rot_err: 0.1219\n",
      "q:seq13/frame00126.png: inlier_ratio: 0.96 (874), trans_err: 0.0632, rot_err: 0.0396\n",
      "q:seq13/frame00127.png: inlier_ratio: 0.98 (738), trans_err: 0.1637, rot_err: 0.0685\n",
      "q:seq13/frame00096.png: inlier_ratio: 0.89 (829), trans_err: 0.1802, rot_err: 0.1427\n",
      "q:seq13/frame00348.png: inlier_ratio: 0.97 (856), trans_err: 0.0723, rot_err: 0.1187\n",
      "q:seq13/frame00349.png: inlier_ratio: 0.97 (836), trans_err: 0.0593, rot_err: 0.1427\n",
      "q:seq13/frame00347.png: inlier_ratio: 0.96 (951), trans_err: 0.0696, rot_err: 0.4035\n",
      "q:seq13/frame00346.png: inlier_ratio: 0.97 (1098), trans_err: 0.0805, rot_err: 0.1480\n",
      "q:seq13/frame00061.png: inlier_ratio: 0.98 (1410), trans_err: 0.2530, rot_err: 0.2056\n",
      "q:seq13/frame00350.png: inlier_ratio: 0.96 (717), trans_err: 0.0588, rot_err: 0.2439\n",
      "q:seq13/frame00084.png: inlier_ratio: 0.94 (862), trans_err: 0.2079, rot_err: 0.6429\n",
      "q:seq13/frame00128.png: inlier_ratio: 0.97 (675), trans_err: 0.0944, rot_err: 0.0685\n",
      "q:seq13/frame00345.png: inlier_ratio: 0.97 (944), trans_err: 0.1031, rot_err: 0.1251\n",
      "q:seq5/frame00042.png: inlier_ratio: 0.95 (591), trans_err: 0.1446, rot_err: 0.8444\n",
      "q:seq5/frame00041.png: inlier_ratio: 0.92 (667), trans_err: 0.1672, rot_err: 1.0056\n",
      "q:seq3/frame00019.png: inlier_ratio: 0.82 (1477), trans_err: 0.1746, rot_err: 0.5098\n",
      "q:seq13/frame00344.png: inlier_ratio: 0.97 (1076), trans_err: 0.0987, rot_err: 0.3517\n",
      "q:seq13/frame00129.png: inlier_ratio: 0.95 (623), trans_err: 0.2269, rot_err: 0.1187\n",
      "q:seq13/frame00017.png: inlier_ratio: 0.96 (1145), trans_err: 0.1840, rot_err: 0.1153\n",
      "q:seq13/frame00009.png: inlier_ratio: 0.97 (1357), trans_err: 0.1220, rot_err: 0.2579\n",
      "q:seq3/frame00010.png: inlier_ratio: 0.93 (2066), trans_err: 0.2530, rot_err: 0.6983\n",
      "q:seq3/frame00069.png: inlier_ratio: 0.96 (1465), trans_err: 0.1113, rot_err: 0.1978\n",
      "q:seq3/frame00068.png: inlier_ratio: 0.98 (1459), trans_err: 0.1278, rot_err: 0.2839\n",
      "q:seq3/frame00070.png: inlier_ratio: 0.95 (1371), trans_err: 0.1269, rot_err: 0.3966\n",
      "q:seq3/frame00071.png: inlier_ratio: 0.96 (1159), trans_err: 0.1275, rot_err: 0.3712\n",
      "q:seq3/frame00077.png: inlier_ratio: 0.94 (919), trans_err: 0.0576, rot_err: 0.2221\n",
      "q:seq3/frame00072.png: inlier_ratio: 0.95 (1075), trans_err: 0.1467, rot_err: 0.3669\n",
      "q:seq3/frame00093.png: inlier_ratio: 0.96 (1185), trans_err: 0.0876, rot_err: 0.2741\n",
      "q:seq3/frame00075.png: inlier_ratio: 0.96 (959), trans_err: 0.1014, rot_err: 0.2961\n",
      "q:seq3/frame00076.png: inlier_ratio: 0.95 (1205), trans_err: 0.1127, rot_err: 0.3263\n",
      "q:seq13/frame00309.png: inlier_ratio: 0.94 (584), trans_err: 0.0854, rot_err: 0.2594\n",
      "q:seq3/frame00073.png: inlier_ratio: 0.96 (886), trans_err: 0.1716, rot_err: 0.2867\n",
      "q:seq3/frame00024.png: inlier_ratio: 0.97 (2103), trans_err: 0.1710, rot_err: 0.3528\n",
      "q:seq13/frame00317.png: inlier_ratio: 0.96 (708), trans_err: 0.0906, rot_err: 0.1187\n",
      "q:seq3/frame00037.png: inlier_ratio: 0.97 (1672), trans_err: 0.1278, rot_err: 0.1856\n",
      "q:seq13/frame00130.png: inlier_ratio: 0.91 (496), trans_err: 0.3833, rot_err: 0.2374\n",
      "q:seq13/frame00316.png: inlier_ratio: 0.95 (448), trans_err: 0.0803, rot_err: 0.2112\n",
      "q:seq13/frame00131.png: inlier_ratio: 0.95 (416), trans_err: 0.3494, rot_err: 0.1958\n",
      "q:seq13/frame00315.png: inlier_ratio: 0.92 (382), trans_err: 0.0829, rot_err: 0.2784\n",
      "q:seq13/frame00343.png: inlier_ratio: 0.97 (1056), trans_err: 0.1068, rot_err: 0.3000\n",
      "q:seq13/frame00145.png: inlier_ratio: 0.92 (162), trans_err: 0.1119, rot_err: 0.3483\n",
      "q:seq13/frame00016.png: inlier_ratio: 0.97 (1156), trans_err: 0.1931, rot_err: 0.4665\n",
      "q:seq13/frame00010.png: inlier_ratio: 0.98 (1051), trans_err: 0.1802, rot_err: 0.4187\n",
      "q:seq3/frame00074.png: inlier_ratio: 0.98 (902), trans_err: 0.1019, rot_err: 0.2741\n",
      "q:seq13/frame00190.png: inlier_ratio: 0.95 (157), trans_err: 0.1579, rot_err: 0.7803\n",
      "q:seq5/frame00029.png: inlier_ratio: 0.94 (589), trans_err: 0.0475, rot_err: 0.3310\n",
      "q:seq13/frame00198.png: inlier_ratio: 0.97 (212), trans_err: 0.0361, rot_err: 0.1119\n",
      "q:seq13/frame00310.png: inlier_ratio: 0.93 (421), trans_err: 0.0778, rot_err: 0.2324\n",
      "q:seq13/frame00197.png: inlier_ratio: 0.96 (193), trans_err: 0.0784, rot_err: 0.1342\n",
      "q:seq3/frame00009.png: inlier_ratio: 0.94 (1427), trans_err: 0.0642, rot_err: 0.0560\n",
      "q:seq3/frame00020.png: inlier_ratio: 0.94 (1464), trans_err: 0.1041, rot_err: 0.2894\n",
      "q:seq3/frame00043.png: inlier_ratio: 0.95 (1499), trans_err: 0.1092, rot_err: 0.1856\n",
      "q:seq13/frame00196.png: inlier_ratio: 0.93 (226), trans_err: 0.0854, rot_err: 0.1507\n",
      "q:seq13/frame00195.png: inlier_ratio: 0.97 (243), trans_err: 0.1762, rot_err: 0.6256\n",
      "q:seq13/frame00192.png: inlier_ratio: 0.95 (112), trans_err: 0.1155, rot_err: 0.3690\n",
      "q:seq13/frame00193.png: inlier_ratio: 0.93 (144), trans_err: 0.2091, rot_err: 0.6983\n",
      "q:seq13/frame00194.png: inlier_ratio: 0.98 (201), trans_err: 0.1055, rot_err: 0.1119\n",
      "q:seq13/frame00144.png: inlier_ratio: 0.85 (121), trans_err: 0.2012, rot_err: 0.2683\n",
      "q:seq3/frame00023.png: inlier_ratio: 0.97 (1653), trans_err: 0.1765, rot_err: 0.3322\n",
      "q:seq3/frame00022.png: inlier_ratio: 0.97 (1388), trans_err: 0.0732, rot_err: 0.1918\n",
      "q:seq3/frame00021.png: inlier_ratio: 0.97 (1249), trans_err: 0.1574, rot_err: 0.1747\n",
      "q:seq3/frame00038.png: inlier_ratio: 0.96 (1436), trans_err: 0.1184, rot_err: 0.1282\n",
      "q:seq5/frame00028.png: inlier_ratio: 0.89 (463), trans_err: 0.0619, rot_err: 0.2683\n",
      "q:seq3/frame00005.png: inlier_ratio: 0.96 (1304), trans_err: 0.1887, rot_err: 0.2487\n",
      "q:seq3/frame00008.png: inlier_ratio: 0.94 (1077), trans_err: 0.1109, rot_err: 0.0560\n",
      "q:seq13/frame00132.png: inlier_ratio: 0.91 (452), trans_err: 0.4590, rot_err: 0.1998\n",
      "q:seq5/frame00024.png: inlier_ratio: 0.93 (804), trans_err: 0.0677, rot_err: 0.2867\n",
      "q:seq13/frame00191.png: inlier_ratio: 0.98 (131), trans_err: 0.1847, rot_err: 1.0226\n",
      "q:seq3/frame00092.png: inlier_ratio: 0.77 (254), trans_err: 0.1917, rot_err: 0.2853\n",
      "q:seq13/frame00143.png: inlier_ratio: 0.85 (142), trans_err: 0.1918, rot_err: 0.2880\n",
      "q:seq13/frame00133.png: inlier_ratio: 0.90 (458), trans_err: 0.3215, rot_err: 0.2894\n",
      "q:seq5/frame00027.png: inlier_ratio: 0.91 (404), trans_err: 0.0646, rot_err: 0.1725\n",
      "q:seq13/frame00311.png: inlier_ratio: 0.93 (368), trans_err: 0.0690, rot_err: 0.0791\n",
      "q:seq13/frame00134.png: inlier_ratio: 0.87 (402), trans_err: 0.4430, rot_err: 0.1725\n",
      "q:seq3/frame00042.png: inlier_ratio: 0.92 (795), trans_err: 0.0639, rot_err: 0.0560\n",
      "q:seq3/frame00039.png: inlier_ratio: 0.92 (646), trans_err: 0.0526, rot_err: 0.0791\n",
      "q:seq3/frame00041.png: inlier_ratio: 0.89 (634), trans_err: 0.0802, rot_err: 0.0396\n",
      "q:seq3/frame00040.png: inlier_ratio: 0.90 (626), trans_err: 0.0858, rot_err: 0.0791\n",
      "q:seq13/frame00011.png: inlier_ratio: 0.95 (776), trans_err: 0.1080, rot_err: 0.0485\n",
      "q:seq13/frame00314.png: inlier_ratio: 0.86 (320), trans_err: 0.1153, rot_err: 0.4224\n",
      "q:seq13/frame00015.png: inlier_ratio: 0.90 (609), trans_err: 0.1979, rot_err: 0.2075\n",
      "q:seq5/frame00026.png: inlier_ratio: 0.90 (360), trans_err: 0.0707, rot_err: 0.3836\n",
      "q:seq3/frame00089.png: inlier_ratio: 0.87 (483), trans_err: 0.0445, rot_err: 0.0839\n",
      "q:seq3/frame00090.png: inlier_ratio: 0.90 (437), trans_err: 0.0724, rot_err: 0.0396\n",
      "q:seq5/frame00025.png: inlier_ratio: 0.88 (468), trans_err: 0.0793, rot_err: 0.3937\n",
      "q:seq3/frame00006.png: inlier_ratio: 0.94 (1008), trans_err: 0.1590, rot_err: 0.1679\n",
      "q:seq13/frame00012.png: inlier_ratio: 0.93 (667), trans_err: 0.0874, rot_err: 0.0839\n",
      "q:seq13/frame00014.png: inlier_ratio: 0.88 (522), trans_err: 0.1674, rot_err: 0.1877\n",
      "q:seq13/frame00013.png: inlier_ratio: 0.85 (364), trans_err: 0.1087, rot_err: 0.1918\n",
      "q:seq13/frame00135.png: inlier_ratio: 0.92 (338), trans_err: 0.4810, rot_err: 0.1679\n",
      "q:seq13/frame00312.png: inlier_ratio: 0.86 (289), trans_err: 0.0544, rot_err: 0.1187\n",
      "q:seq13/frame00142.png: inlier_ratio: 0.94 (103), trans_err: 0.1195, rot_err: 0.3986\n",
      "q:seq13/frame00141.png: inlier_ratio: 0.86 (185), trans_err: 0.1347, rot_err: 0.3140\n",
      "q:seq3/frame00091.png: inlier_ratio: 0.85 (393), trans_err: 0.0497, rot_err: 0.1312\n",
      "q:seq13/frame00140.png: inlier_ratio: 0.76 (172), trans_err: 0.9123, rot_err: 0.4406\n",
      "q:seq13/frame00139.png: inlier_ratio: 0.92 (114), trans_err: 1.4211, rot_err: 1.1453\n",
      "q:seq13/frame00136.png: inlier_ratio: 0.90 (281), trans_err: 0.6262, rot_err: 0.2741\n",
      "q:seq13/frame00138.png: inlier_ratio: 0.99 (257), trans_err: 0.8048, rot_err: 0.2256\n",
      "q:seq3/frame00007.png: inlier_ratio: 0.90 (941), trans_err: 0.1115, rot_err: 0.0839\n",
      "q:seq13/frame00137.png: inlier_ratio: 0.92 (347), trans_err: 0.6377, rot_err: 0.3140\n",
      "q:seq13/frame00313.png: inlier_ratio: 0.94 (261), trans_err: 0.0764, rot_err: 0.2624\n"
     ]
    }
   ],
   "source": [
    "# inlier_ratios, trans_errs, rotdeg_errs = [], [], []\n",
    "ret = dict()\n",
    "\n",
    "q_i = 0\n",
    "\n",
    "for q_name in tqdm(q_names):\n",
    "    \n",
    "    \n",
    "    # extract query infos\n",
    "    q_pos2d = ds.retrieval_2D([q_name], scene='query')\n",
    "    q_dim, q_K, q_gt_Tcw = ds.get_cam_params([q_name], scene='query')\n",
    "    q_metas = ClipMeta(dataset_name, [q_name], q_gt_Tcw, 'query', q_K, q_dim, [torch.zeros(2)])\n",
    "    \n",
    "    # find the nearest references\n",
    "    q_img = ds.get_images([q_name], to_tensor=False)\n",
    "    nearest_res = ref_db.search_db(ref_db.encode(q_img[0]))\n",
    "    \n",
    "    # register\n",
    "    with torch.cuda.device(train_box.device_of(train_box.q2r)) as _, torch.no_grad() as _:\n",
    "        q_feats = encode_sp_feats(train_box.q2r, q_metas, q_pos2d, split=False)\n",
    "\n",
    "    with torch.cuda.device(train_box.device_of(train_box.dual_matcher)) as _, torch.no_grad() as _:\n",
    "        cur_dev = torch.cuda.current_device()\n",
    "   \n",
    "        q_aggr_uv, r_aggr_xyz = [], []\n",
    "        for rc_idx in nearest_res[:cfg_top_k]:\n",
    "            \n",
    "            if rc_idx not in sqz_xyz:\n",
    "#                 print('ignored')\n",
    "                continue\n",
    "\n",
    "            rc_xyz = sqz_xyz[rc_idx]\n",
    "#             rc_uint8_feats = sqz_feats[rc_idx].to(cur_dev)\n",
    "\n",
    "            # decode the uint8 feats\n",
    "#             rc_feats = qtz.decode(dsq.recover(rc_uint8_feats.float()))\n",
    "            rc_feats = sqz_raw_feats[rc_idx].to(cur_dev)\n",
    "\n",
    "            # match\n",
    "            r2q_score = train_box.dual_matcher.get_score(rc_feats, q_feats.to(cur_dev), optimal_transport=True)\n",
    "            r2q_matches = train_box.dual_matcher.get_matches(r2q_score, optimal_transport=False)['matches0'][0].cpu()\n",
    "\n",
    "            r2q_matches = torch.cat([torch.arange(0, rc_xyz.shape[0]).int().unsqueeze(-1),\n",
    "                                 r2q_matches.int().unsqueeze(-1)], dim=-1).long()    \n",
    "\n",
    "            # localize\n",
    "            r2q_matches_v = r2q_matches[torch.where(r2q_matches[:, 1] > 0)[0]]\n",
    "            ref_sel_xyz, q_sel_uv = corres_pos_from_pairs(rc_xyz.cpu(), q_pos2d.uv[0].cpu(), r2q_matches_v.cpu())\n",
    "\n",
    "            # localize\n",
    "            pred_Tcw, inliers = estimate_pose_(ds, q_name, q_sel_uv, ref_sel_xyz, thresh=cfg_pnp_thres)\n",
    "#             print(rc_idx, inliers)\n",
    "            if inliers is not None:\n",
    "                 \n",
    "                inlier_ratio = inliers.sum() / inliers.shape[0]\n",
    "                \n",
    "                if inliers.sum() > 10:\n",
    "#                     if inlier_ratio > 0.6 and inliers.sum() > 4:\n",
    "                    q_aggr_uv.append(q_sel_uv[inliers])\n",
    "                    r_aggr_xyz.append(ref_sel_xyz[inliers])\n",
    "                    \n",
    "                # visualize matches\n",
    "#                 r_info = refs[rc_idx]\n",
    "#                 r_vis_names = [r for r in r_info['nodes']]\n",
    "#                 r_vis_imgs = ds.get_images(r_vis_names, to_tensor=False)\n",
    "#                 r_dims, r_Ks, r_Tcws = ds.get_cam_params(r_vis_names)\n",
    "                \n",
    "#                 prj_kpt_pos2ds = []\n",
    "#                 for r_K, r_Tcw, r_dim in zip(r_Ks, r_Tcws, r_dims):\n",
    "#                     prj_kpt_pos2d, prj_kpt_depth = cam_opt_gpu.reproject(torch.from_numpy(r_Tcw), torch.from_numpy(r_K), ref_sel_xyz)\n",
    "#                     valid_mask = cam_opt_gpu.is_in_t(prj_kpt_pos2d, prj_kpt_depth, r_dim)\n",
    "#                     prj_kpt_pos2d = prj_kpt_pos2d[torch.where(valid_mask == True)[0]]\n",
    "#                     prj_kpt_pos2ds.append(asnumpy(prj_kpt_pos2d))\n",
    "\n",
    "#                 plot_images(r_vis_imgs)\n",
    "#                 plot_keypoints(prj_kpt_pos2ds)                   \n",
    "            \n",
    "        if len(q_aggr_uv) > 0:\n",
    "            q_aggr_uv = torch.cat(q_aggr_uv, dim=0)\n",
    "            r_aggr_xyz = torch.cat(r_aggr_xyz, dim=0)\n",
    "\n",
    "            pred_Tcw, inliers = estimate_pose_(ds, q_name, q_aggr_uv, r_aggr_xyz, thresh=cfg_pnp_thres)\n",
    "            inlier_ratio = inliers.sum() / inliers.shape[0]\n",
    "            num_inliers = inliers.sum()\n",
    "            \n",
    "            # measure the errs\n",
    "            if inlier_ratio > 0.1:\n",
    "                rel_dist_err, rel_rot_err = rel_distance(pred_Tcw, q_gt_Tcw[0]), rel_R_deg(pred_Tcw, q_gt_Tcw[0])\n",
    "            else:\n",
    "                inlier_ratio, num_inliers, rel_dist_err, rel_rot_err = 0, 0, 10, 180\n",
    "        else:\n",
    "            inlier_ratio, num_inliers, rel_dist_err, rel_rot_err = 0, 0, 10, 180\n",
    "\n",
    "        # gather errs\n",
    "        ret[q_name] = (inlier_ratio, num_inliers, rel_dist_err, rel_rot_err)\n",
    "        print('q:%s: inlier_ratio: %.2f (%d), trans_err: %.4f, rot_err: %.4f' % (q_name, inlier_ratio, num_inliers, rel_dist_err, rel_rot_err))\n",
    "    \n",
    "    q_i += 1"
   ]
  },
  {
   "cell_type": "markdown",
   "id": "cc8be5c0-d756-4305-a0a1-00fcba598490",
   "metadata": {},
   "source": [
    "### Measure"
   ]
  },
  {
   "cell_type": "code",
   "execution_count": 96,
   "id": "d2226867-35d8-4e16-8144-2c28f797d424",
   "metadata": {
    "tags": []
   },
   "outputs": [],
   "source": [
    "inlier_ratios, trans_errs, rotdeg_errs = [], [], []\n",
    "for q_name in ret.keys():\n",
    "    inlier_ratio, num_inliers, rel_dist_err, rel_rot_err = ret[q_name]\n",
    "    inlier_ratios += [inlier_ratio]\n",
    "    trans_errs += [rel_dist_err]\n",
    "    rotdeg_errs += [rel_rot_err]\n",
    "    \n",
    "inlier_ratios = np.asarray(inlier_ratios)\n",
    "trans_errs, rotdeg_errs = np.asarray(trans_errs), np.asarray(rotdeg_errs)"
   ]
  },
  {
   "cell_type": "code",
   "execution_count": 97,
   "id": "6e730958-0c92-427e-aab7-e7775ae0f8ac",
   "metadata": {},
   "outputs": [
    {
     "name": "stdout",
     "output_type": "stream",
     "text": [
      "Median Trans: 0.12, Median Rot: 0.27\n"
     ]
    }
   ],
   "source": [
    "print('Median Trans: %.2f, Median Rot: %.2f' % (np.median(trans_errs), np.median(rotdeg_errs)))"
   ]
  },
  {
   "cell_type": "code",
   "execution_count": 98,
   "id": "527b28a4-73eb-4502-90ec-e790791c0618",
   "metadata": {},
   "outputs": [
    {
     "data": {
      "text/plain": [
       "Text(0.5, 1.0, 'Rot Err (deg)')"
      ]
     },
     "execution_count": 98,
     "metadata": {},
     "output_type": "execute_result"
    },
    {
     "data": {
      "image/png": "[encoded data removed]",
      "text/plain": [
       "<Figure size 1080x288 with 3 Axes>"
      ]
     },
     "metadata": {
      "needs_background": "light"
     },
     "output_type": "display_data"
    }
   ],
   "source": [
    "# plot\n",
    "x_axis = np.arange(inlier_ratios.shape[0])\n",
    "figs, ax = plt.subplots(1, 3, figsize=(15, 4))\n",
    "ax[0].plot(x_axis, inlier_ratios)\n",
    "ax[0].set_title('Inlier Ratios')\n",
    "\n",
    "ax[1].plot(x_axis, trans_errs)\n",
    "ax[1].set_title('Trans Err')\n",
    "\n",
    "ax[2].plot(x_axis, rotdeg_errs)\n",
    "ax[2].set_title('Rot Err (deg)')\n"
   ]
  },
  {
   "cell_type": "code",
   "execution_count": 100,
   "id": "fb6ae7d3-0487-4a34-92f8-e4b322a20595",
   "metadata": {},
   "outputs": [
    {
     "name": "stdout",
     "output_type": "stream",
     "text": [
      "Under (0.50, 5.00): 0.990566\n"
     ]
    }
   ],
   "source": [
    "# count the ratio under (0.25m, 2deg)\n",
    "t_thres = 0.5\n",
    "r_thres = 5\n",
    "\n",
    "true_positives = 0\n",
    "for t_err, r_err in zip(trans_errs, rotdeg_errs):\n",
    "    if t_err < t_thres and r_err < r_thres:\n",
    "        true_positives += 1\n",
    "print('Under (%.2f, %.2f): %f' % (t_thres, r_thres, true_positives / trans_errs.shape[0]))"
   ]
  },
  {
   "cell_type": "code",
   "execution_count": null,
   "id": "5a8ef877-bbe7-49a0-bbc2-4539edbdf31a",
   "metadata": {},
   "outputs": [],
   "source": [
    "# dist_thres=50, size=6.03mb, ref_graphs: 270, acc=0.898113, 0.990566, Median Trans:0.14, Median Rot: 0.30\n",
    "# dist_thres=60, size=2.99mb, ref_graphs: 133, acc=0.892453, 0.984906, Median Trans: 0.14, Median Rot: 0.32\n",
    "# dist_thres=70, size=1.68mb, ref_graphs: 72, acc=0.866038, 0.981132, Median Trans: 0.15, Median Rot: 0.36\n",
    "# dist_thres=80, size=1.18mb, ref_graphs: 52, acc=0.869811, 0.977358, Median Trans: 0.15, Median Rot: 0.34\n",
    "# dist_thres=90, size=0.67mb, ref_graphs: 30, acc=0.807547, 0.971698, Median Trans: 0.15, Median Rot: 0.38\n",
    "# dist_thres=１00, size=0.51mb, ref_graphs: 22, acc=0.762264, 0.937736, Median Trans: 0.17, Median Rot: 0.42\n",
    "# dist_thres=１20, size=0.38mb, ref_graphs: 16, acc=0.705660, 0.903, Median Trans: 0.18, Median Rot: 0.48"
   ]
  },
  {
   "cell_type": "code",
   "execution_count": null,
   "id": "8574dc10-86fb-4d6f-84fa-395c7229d3c4",
   "metadata": {},
   "outputs": [],
   "source": [
    "# dist_thres=50, size=307.25 MB, ref_graphs: 270, acc=0.950943, 0.996226, Median Trans:0.11, Median Rot: 0.24  # uncompressed (Hloc)\n",
    "# dist_thres=80, size=1.18mb, ref_graphs: 52, acc=0.869811, 0.977358, Median Trans: 0.15, Median Rot: 0.34  # uncompressed (Hloc), 1.5%\n",
    "# dist_thres=80, size=1.93MB, ref_graphs: 52, acc=0.913208, 0.988679, Median Trans: 0.13, Median Rot: 0.29  # uncompressed (Hloc), 3%\n",
    "# dist_thres=80, size=3.51MB, ref_graphs: 52, acc=0.930189, 0.990566, Median Trans: 0.13, Median Rot: 0.28  # uncompressed (Hloc), 6%\n",
    "# dist_thres=80, size=6.63MB, ref_graphs: 52, acc=0.941509, 0.990566, Median Trans: 0.13, Median Rot: 0.28  # uncompressed (Hloc), 12%\n",
    "# dist_thres=80, size=9.75MB, ref_graphs: 52, acc=0.945283, 0.992453, Median Trans: 0.12, Median Rot: 0.27  # uncompressed (Hloc), 18%"
   ]
  }
 ],
 "metadata": {
  "kernelspec": {
   "display_name": "Python 3 (ipykernel)",
   "language": "python",
   "name": "python3"
  },
  "language_info": {
   "codemirror_mode": {
    "name": "ipython",
    "version": 3
   },
   "file_extension": ".py",
   "mimetype": "text/x-python",
   "name": "python",
   "nbconvert_exporter": "python",
   "pygments_lexer": "ipython3",
   "version": "3.8.10"
  }
 },
 "nbformat": 4,
 "nbformat_minor": 5
}
